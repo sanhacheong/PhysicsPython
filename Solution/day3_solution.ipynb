{
 "cells": [
  {
   "cell_type": "markdown",
   "metadata": {},
   "source": [
    "# Day 3"
   ]
  },
  {
   "cell_type": "markdown",
   "metadata": {},
   "source": [
    "## (A) NumPy Arrays\n",
    "\n",
    "Yesterday, we ended our session with what we call a `list` in Python. It stores multiple different values in a single `list` variable, and we could access individual element(s) using some good old 0-based indexing.\n",
    "\n",
    "*However*, there are some common operations that we want in scientific computing that just doesn't exist for lists. For example, applying even a very simple function (say `*2`) to all values in the list requires something like:"
   ]
  },
  {
   "cell_type": "code",
   "execution_count": 1,
   "metadata": {
    "ExecuteTime": {
     "end_time": "2018-06-29T22:05:46.341503Z",
     "start_time": "2018-06-29T22:05:46.311806Z"
    }
   },
   "outputs": [
    {
     "name": "stdout",
     "output_type": "stream",
     "text": [
      "[6, 8, 2, 10, 12]\n",
      "[3, 4, 1, 5, 6, 3, 4, 1, 5, 6]\n"
     ]
    }
   ],
   "source": [
    "a = [3, 4, 1, 5, 6]\n",
    "b = []\n",
    "\n",
    "for elem in a:\n",
    "    b.append(elem*2)\n",
    "\n",
    "print(b)\n",
    "# Note that this doesn't work... not the way we want it\n",
    "print(a*2)"
   ]
  },
  {
   "cell_type": "markdown",
   "metadata": {},
   "source": [
    "That is just for multiplication. More complicated things like `math.sin(a)` will not even work. There's got to be **a better way** to do this type of computation, right? We don't want to write that `for` loop every single time.\n",
    "\n",
    "That is where `NumPy` package comes in. `NumPy`, which I might write as `np` sometimes, has some really useful **data structures and functions useful for scientific computing**. It is truly one of the big reasons why Python is so good."
   ]
  },
  {
   "cell_type": "markdown",
   "metadata": {},
   "source": [
    "### NumPy Arrays\n",
    "\n",
    "`np` arrays are just like lists in its basic form. However, it understands some mathematical functions in the way *we* want it to."
   ]
  },
  {
   "cell_type": "code",
   "execution_count": 2,
   "metadata": {
    "ExecuteTime": {
     "end_time": "2018-06-29T22:05:47.804753Z",
     "start_time": "2018-06-29T22:05:47.677387Z"
    }
   },
   "outputs": [
    {
     "name": "stdout",
     "output_type": "stream",
     "text": [
      "[1 2 3]\n",
      "[2 4 6]\n",
      "[ 2  8 18]\n"
     ]
    }
   ],
   "source": [
    "import numpy as np\n",
    "\n",
    "a = np.array([1, 2, 3])\n",
    "b = a*2\n",
    "c = a * b\n",
    "\n",
    "print(a)\n",
    "print(b)\n",
    "print(c)"
   ]
  },
  {
   "cell_type": "markdown",
   "metadata": {},
   "source": [
    "If `np` is told to compute some value using a `np` array and a scalar value, it just applies the scalar value all across the array; above, we doubled each element of `a` to compute `b`. However, if `np` is told to compute values using two `np` arrays, it first checks the **shapes** of the two input arrays; if the shapes are the same, it carries out the computation **element-wise**.\n",
    "\n",
    "Isn't that smart?!\n",
    "\n",
    "Not only is `np` array calculations easier to write and understand than explicit for loops, they are also **much much faster**."
   ]
  },
  {
   "cell_type": "code",
   "execution_count": 3,
   "metadata": {
    "ExecuteTime": {
     "end_time": "2018-06-29T22:05:48.659761Z",
     "start_time": "2018-06-29T22:05:48.644631Z"
    }
   },
   "outputs": [],
   "source": [
    "import math\n",
    "\n",
    "def list_sin(x_list):\n",
    "    y_list = []\n",
    "    for x in x_list:\n",
    "        y_list.append(math.sin(x))\n",
    "    return y_list\n",
    "\n",
    "def list_square(x_list):\n",
    "    y_list = []\n",
    "    for x in x_list:\n",
    "        y_list.append(x * x)\n",
    "    return y_list\n",
    "\n",
    "data = list(range(100000))\n",
    "data_np = np.array(data)"
   ]
  },
  {
   "cell_type": "code",
   "execution_count": 4,
   "metadata": {
    "ExecuteTime": {
     "end_time": "2018-06-29T22:06:01.945811Z",
     "start_time": "2018-06-29T22:05:49.012501Z"
    }
   },
   "outputs": [
    {
     "name": "stdout",
     "output_type": "stream",
     "text": [
      "Computing sin(x)...\n",
      "23.3 ms ± 1.2 ms per loop (mean ± std. dev. of 7 runs, 50 loops each)\n",
      "3.86 ms ± 38.7 µs per loop (mean ± std. dev. of 7 runs, 50 loops each)\n",
      "Squaring...\n",
      "9.71 ms ± 311 µs per loop (mean ± std. dev. of 7 runs, 50 loops each)\n",
      "63.8 µs ± 18.2 µs per loop (mean ± std. dev. of 7 runs, 50 loops each)\n"
     ]
    }
   ],
   "source": [
    "print(\"Computing sin(x)...\")\n",
    "%timeit -n50 list_sin(data)\n",
    "%timeit -n50 np.sin(data_np)\n",
    "print(\"Squaring...\")\n",
    "%timeit -n50 list_square(data)\n",
    "%timeit -n50 data_np * data_np"
   ]
  },
  {
   "cell_type": "markdown",
   "metadata": {},
   "source": [
    "(If you are curious of why `np` is so much faster, google the concept \"vectorization\" and read more about it.)"
   ]
  },
  {
   "cell_type": "markdown",
   "metadata": {},
   "source": [
    "**TL DR: Use `NumPy` whenever possible, avoid explicit `for` loops whenever possible**"
   ]
  },
  {
   "cell_type": "markdown",
   "metadata": {},
   "source": [
    "#### Exercise\n",
    "\n",
    "Write a function `radius` that takes two input `np` arrays with an equal length: `x` and `y`. Return a `np` array each of whose value is $r = \\sqrt{x^2 + y^2}$ for each $x,y$ from the input arrays. Do not use *any* `for` loop.\n",
    "\n",
    "Hint: `np.sqrt` is a thing.  \n",
    "Hint: This can be done in one line."
   ]
  },
  {
   "cell_type": "code",
   "execution_count": 5,
   "metadata": {
    "ExecuteTime": {
     "end_time": "2018-06-29T22:06:08.692117Z",
     "start_time": "2018-06-29T22:06:08.681001Z"
    }
   },
   "outputs": [],
   "source": [
    "def radius(x, y):\n",
    "    ##################################\n",
    "    # Write your own code here!      #\n",
    "    ##################################\n",
    "    return np.sqrt(x*x + y*y)"
   ]
  },
  {
   "cell_type": "code",
   "execution_count": 6,
   "metadata": {
    "ExecuteTime": {
     "end_time": "2018-06-29T22:06:09.741809Z",
     "start_time": "2018-06-29T22:06:09.723201Z"
    }
   },
   "outputs": [
    {
     "name": "stdout",
     "output_type": "stream",
     "text": [
      "[1. 1. 1. 1. 1. 1. 1. 1. 1. 1. 1. 1. 1. 1. 1. 1. 1. 1. 1. 1. 1. 1. 1. 1.\n",
      " 1. 1. 1. 1. 1. 1. 1. 1. 1. 1. 1. 1. 1. 1. 1. 1. 1. 1. 1. 1. 1. 1. 1. 1.\n",
      " 1. 1. 1. 1. 1. 1. 1. 1. 1. 1. 1. 1. 1. 1. 1. 1. 1. 1. 1. 1. 1. 1. 1. 1.\n",
      " 1. 1. 1. 1. 1. 1. 1. 1. 1. 1. 1. 1. 1. 1. 1. 1. 1. 1. 1. 1. 1. 1. 1. 1.\n",
      " 1. 1. 1. 1.]\n"
     ]
    }
   ],
   "source": [
    "# Don't worry about how the input data are created here...\n",
    "# We'll get to these later\n",
    "x = np.cos(np.linspace(0, 2*np.pi, 100))\n",
    "y = np.sin(np.linspace(0, 2*np.pi, 100))\n",
    "r = radius(x, y)\n",
    "\n",
    "# These should all be 1's\n",
    "print(r)"
   ]
  },
  {
   "cell_type": "markdown",
   "metadata": {},
   "source": [
    "#### Creating `np` arrays\n",
    "\n",
    "`np` arrays are not only faster to do computations with, but they are also often easier to create and manipulate otherwise.\n",
    "\n",
    "Above, we saw a construction of a `np` array using `np.array(some_list)`. Some other ways include:"
   ]
  },
  {
   "cell_type": "code",
   "execution_count": 7,
   "metadata": {
    "ExecuteTime": {
     "end_time": "2018-06-29T22:06:10.820845Z",
     "start_time": "2018-06-29T22:06:10.802913Z"
    }
   },
   "outputs": [
    {
     "name": "stdout",
     "output_type": "stream",
     "text": [
      "a is:\n",
      " [0. 0. 0. 0. 0. 0. 0. 0. 0. 0.]\n",
      "b is:\n",
      " [1. 1. 1. 1. 1. 1. 1. 1. 1. 1.]\n"
     ]
    }
   ],
   "source": [
    "a = np.zeros(10)\n",
    "print(\"a is:\\n\", a)\n",
    "\n",
    "b = np.ones(10)\n",
    "print(\"b is:\\n\", b)"
   ]
  },
  {
   "cell_type": "markdown",
   "metadata": {},
   "source": [
    "And, of course, `np` has some generalizations of the `range` function:"
   ]
  },
  {
   "cell_type": "code",
   "execution_count": 8,
   "metadata": {
    "ExecuteTime": {
     "end_time": "2018-06-29T22:06:12.407475Z",
     "start_time": "2018-06-29T22:06:12.390966Z"
    }
   },
   "outputs": [
    {
     "name": "stdout",
     "output_type": "stream",
     "text": [
      "c is:\n",
      " [ 0  1  2  3  4  5  6  7  8  9 10 11 12 13 14 15 16 17 18 19 20 21 22 23\n",
      " 24 25 26 27 28 29 30 31 32 33 34 35 36 37 38 39 40 41 42 43 44 45 46 47\n",
      " 48 49]\n",
      "d is:\n",
      " [30 31 32 33 34 35 36 37 38 39 40 41 42 43 44 45 46 47 48 49]\n",
      "e is:\n",
      " [ 4.   6.5  9.  11.5 14.  16.5 19.  21.5 24.  26.5 29.  31.5 34.  36.5]\n"
     ]
    }
   ],
   "source": [
    "c = np.arange(50)\n",
    "print(\"c is:\\n\", c)\n",
    "\n",
    "d = np.arange(30, 50)\n",
    "print(\"d is:\\n\", d)\n",
    "\n",
    "e = np.arange(4, 38, 2.5)\n",
    "print(\"e is:\\n\", e)"
   ]
  },
  {
   "cell_type": "markdown",
   "metadata": {},
   "source": [
    "Sometimes, `np.linspace()` is more convenient than `np.arange()`."
   ]
  },
  {
   "cell_type": "code",
   "execution_count": 10,
   "metadata": {
    "ExecuteTime": {
     "end_time": "2018-06-29T22:06:16.584587Z",
     "start_time": "2018-06-29T22:06:16.347329Z"
    }
   },
   "outputs": [
    {
     "data": {
      "image/png": "[encoded data removed]",
      "text/plain": [
       "<Figure size 576x576 with 1 Axes>"
      ]
     },
     "metadata": {},
     "output_type": "display_data"
    }
   ],
   "source": [
    "x = np.linspace(0, 2*np.pi, 100)\n",
    "y = np.sin(x)\n",
    "\n",
    "import matplotlib.pyplot as plt\n",
    "plt.figure(figsize=(8, 8))\n",
    "plt.plot(x, y, marker='+')\n",
    "plt.grid(True)\n",
    "plt.show()"
   ]
  },
  {
   "cell_type": "markdown",
   "metadata": {},
   "source": [
    "If there is `linspace`, there must also be `logspace`, right?"
   ]
  },
  {
   "cell_type": "code",
   "execution_count": 11,
   "metadata": {
    "ExecuteTime": {
     "end_time": "2018-06-29T22:06:18.444789Z",
     "start_time": "2018-06-29T22:06:17.695498Z"
    }
   },
   "outputs": [
    {
     "data": {
      "image/png": "[encoded data removed]",
      "text/plain": [
       "<Figure size 576x576 with 1 Axes>"
      ]
     },
     "metadata": {},
     "output_type": "display_data"
    }
   ],
   "source": [
    "x = np.logspace(0, 5, 100)\n",
    "y = x ** 4\n",
    "\n",
    "plt.figure(figsize=(8, 8))\n",
    "plt.loglog(x, y, marker='+')\n",
    "plt.grid(True)\n",
    "plt.show()"
   ]
  },
  {
   "cell_type": "markdown",
   "metadata": {},
   "source": [
    "#### Multi-dimensional `np` arrays\n",
    "\n",
    "Remebmer how we created a nested list yesterday (a list of lists)? The same can be done with `np` arrays. In fact, we can make **arbitray-dimension arrays**."
   ]
  },
  {
   "cell_type": "code",
   "execution_count": 12,
   "metadata": {
    "ExecuteTime": {
     "end_time": "2018-06-29T22:06:19.497880Z",
     "start_time": "2018-06-29T22:06:19.486562Z"
    }
   },
   "outputs": [
    {
     "name": "stdout",
     "output_type": "stream",
     "text": [
      "[[1. 1. 1.]\n",
      " [1. 1. 1.]\n",
      " [1. 1. 1.]\n",
      " [1. 1. 1.]]\n",
      "[[[1. 1. 1.]\n",
      "  [1. 1. 1.]\n",
      "  [1. 1. 1.]\n",
      "  [1. 1. 1.]\n",
      "  [1. 1. 1.]]\n",
      "\n",
      " [[1. 1. 1.]\n",
      "  [1. 1. 1.]\n",
      "  [1. 1. 1.]\n",
      "  [1. 1. 1.]\n",
      "  [1. 1. 1.]]\n",
      "\n",
      " [[1. 1. 1.]\n",
      "  [1. 1. 1.]\n",
      "  [1. 1. 1.]\n",
      "  [1. 1. 1.]\n",
      "  [1. 1. 1.]]\n",
      "\n",
      " [[1. 1. 1.]\n",
      "  [1. 1. 1.]\n",
      "  [1. 1. 1.]\n",
      "  [1. 1. 1.]\n",
      "  [1. 1. 1.]]]\n"
     ]
    }
   ],
   "source": [
    "two_d_array = np.ones((4, 3))\n",
    "print(two_d_array)\n",
    "\n",
    "three_d_array = np.ones((4, 5, 3))\n",
    "print(three_d_array)\n",
    "\n",
    "# ... how about I stop here"
   ]
  },
  {
   "cell_type": "markdown",
   "metadata": {},
   "source": [
    "`nparray.shape` is a special function that returns the shape (size per dimension) in something called a `tuple`. `tuple` is very similar to `list`, but is written with parentheses and not square-brackets."
   ]
  },
  {
   "cell_type": "code",
   "execution_count": 13,
   "metadata": {
    "ExecuteTime": {
     "end_time": "2018-06-29T22:06:20.769296Z",
     "start_time": "2018-06-29T22:06:20.756467Z"
    }
   },
   "outputs": [
    {
     "name": "stdout",
     "output_type": "stream",
     "text": [
      "(4, 3)\n",
      "4\n",
      "3\n",
      "(4, 5, 3)\n",
      "4\n",
      "5\n",
      "3\n"
     ]
    }
   ],
   "source": [
    "print(two_d_array.shape)\n",
    "print(two_d_array.shape[0])\n",
    "print(two_d_array.shape[1])\n",
    "\n",
    "print(three_d_array.shape)\n",
    "print(three_d_array.shape[0])\n",
    "print(three_d_array.shape[1])\n",
    "print(three_d_array.shape[2])"
   ]
  },
  {
   "cell_type": "markdown",
   "metadata": {},
   "source": [
    "Indexing and slicing `np` arrays work just similarly as they do for lists."
   ]
  },
  {
   "cell_type": "code",
   "execution_count": 14,
   "metadata": {
    "ExecuteTime": {
     "end_time": "2018-06-29T22:06:22.000046Z",
     "start_time": "2018-06-29T22:06:21.988371Z"
    }
   },
   "outputs": [
    {
     "name": "stdout",
     "output_type": "stream",
     "text": [
      "Accesing the first dimension\n",
      "[5 3 8 4]\n",
      "Accessing the second dimension\n",
      "8\n",
      "8\n",
      "Selecting the whole dimension using `:`\n",
      "[5 4 3]\n",
      "Can you understand what's happening here?\n",
      "[[3 8 4]\n",
      " [3 9 3]]\n"
     ]
    }
   ],
   "source": [
    "a = np.array(\n",
    "    [ [5, 3, 8, 4],\n",
    "      [4, 3, 9, 3],\n",
    "      [3, -2, -5, 0] ]\n",
    ")\n",
    "\n",
    "print(\"Accesing the first dimension\")\n",
    "print(a[0])\n",
    "print(\"Accessing the second dimension\")\n",
    "print(a[0][2])  # Works, but not recommended!\n",
    "print(a[0, 2])\n",
    "print(\"Selecting the whole dimension using `:`\")\n",
    "print(a[:, 0])  # This is super-convenient\n",
    "print(\"Can you understand what's happening here?\")\n",
    "print(a[:2, 1:])"
   ]
  },
  {
   "cell_type": "markdown",
   "metadata": {},
   "source": [
    "#### Exercise\n",
    "\n",
    "Write two functions `row_mean` and `column_mean`. Your input is one 2-dimensional `np` array, `x`. `row_mean` should compute **average across each row** (i.e. the last dimension), and `column_mean` should compute **average across column** (i.e. the first dimension). Your outputs should both be one-dimensional `np` array.\n",
    "\n",
    "e.g.,\n",
    "```Python\n",
    "x = np.array(\n",
    "    [ [1, 2, 3],\n",
    "      [3, 2, 7] ] \n",
    ")\n",
    "print(row_mean(x))\n",
    "print(column_mean(x))\n",
    "\n",
    "[ 2, 4 ]\n",
    "[ 2, 2, 5]\n",
    "```\n",
    "and\n",
    "```Python\n",
    "x = np.array(\n",
    "    [ [ 3, 4, 4, 9],\n",
    "      [ 2, 1, 7, 0],\n",
    "      [ 4, -5, 7, 0 ] ]\n",
    ")\n",
    "print(row_mean(x))\n",
    "print(column_mean(x))\n",
    "\n",
    "[ 5,  2.5, 1.5]\n",
    "[ 3, 0, 6, 3 ]\n",
    "```\n",
    "\n",
    "You are allowed to use **only one explicit `for` loop**.\n",
    "\n",
    "Hint: Start by creating a zero-array of the correct output shape using `np.zeros(shape)`. Then, over-write the correct mean values you compute from *each* row or column. For each row/column, you can use `np.mean(some_array)`."
   ]
  },
  {
   "cell_type": "code",
   "execution_count": 15,
   "metadata": {
    "ExecuteTime": {
     "end_time": "2018-06-29T22:06:28.567854Z",
     "start_time": "2018-06-29T22:06:28.548303Z"
    }
   },
   "outputs": [],
   "source": [
    "def row_mean(x):\n",
    "    ##################################\n",
    "    # Write your own code here!      #\n",
    "    ##################################\n",
    "    out = np.zeros(x.shape[0])\n",
    "    for i in range(x.shape[0]):\n",
    "        out[i] = np.mean(x[i])\n",
    "    return out\n",
    "\n",
    "def column_mean(x):\n",
    "    ##################################\n",
    "    # Write your own code here!      #\n",
    "    ##################################\n",
    "    out = np.zeros(x.shape[1])\n",
    "    for i in range(x.shape[1]):\n",
    "        out[i] = np.mean(x[:, i])\n",
    "    return out"
   ]
  },
  {
   "cell_type": "code",
   "execution_count": 16,
   "metadata": {
    "ExecuteTime": {
     "end_time": "2018-06-29T22:06:29.060136Z",
     "start_time": "2018-06-29T22:06:29.025400Z"
    }
   },
   "outputs": [
    {
     "name": "stdout",
     "output_type": "stream",
     "text": [
      "[5.  2.5 1.5]\n",
      "[3. 0. 6. 3.]\n"
     ]
    }
   ],
   "source": [
    "x = np.array(\n",
    "    [ [ 3, 4, 4, 9],\n",
    "      [ 2, 1, 7, 0],\n",
    "      [ 4, -5, 7, 0 ] ]\n",
    ")\n",
    "print(row_mean(x))\n",
    "print(column_mean(x))"
   ]
  },
  {
   "cell_type": "markdown",
   "metadata": {},
   "source": [
    "`np.mean()` has an **optional argument `axis`**. The above could have been done in a more `np`-friendly way using the `axis` argument. This is faster, since it does not involve any explicit `for` loop.\n",
    "\n",
    "(Most `np` functions that requires going through a *part* of a `np` array has the `axis` optional argument e.g., `np.max()`, `np.sum()`, etc. Check the documentation before you use any of these functions.)"
   ]
  },
  {
   "cell_type": "code",
   "execution_count": 17,
   "metadata": {
    "ExecuteTime": {
     "end_time": "2018-06-29T22:06:30.231738Z",
     "start_time": "2018-06-29T22:06:30.139494Z"
    }
   },
   "outputs": [
    {
     "name": "stdout",
     "output_type": "stream",
     "text": [
      "[5.  2.5 1.5]\n",
      "[3. 0. 6. 3.]\n",
      "45.3 µs ± 8.31 µs per loop (mean ± std. dev. of 7 runs, 100 loops each)\n",
      "12.2 µs ± 1.77 µs per loop (mean ± std. dev. of 7 runs, 100 loops each)\n",
      "42.6 µs ± 10.3 µs per loop (mean ± std. dev. of 7 runs, 100 loops each)\n",
      "9.48 µs ± 1.1 µs per loop (mean ± std. dev. of 7 runs, 100 loops each)\n"
     ]
    }
   ],
   "source": [
    "print(np.mean(x, axis=1))\n",
    "print(np.mean(x, axis=0))\n",
    "\n",
    "%timeit -n100 row_mean(x)\n",
    "%timeit -n100 np.mean(x, axis=1)\n",
    "\n",
    "%timeit -n100 column_mean(x)\n",
    "%timeit -n100 np.mean(x, axis=0)"
   ]
  },
  {
   "cell_type": "markdown",
   "metadata": {},
   "source": [
    "#### More advanced array indexing\n",
    "\n",
    "You can also use other lists or `np` arrays as *indices* to your array."
   ]
  },
  {
   "cell_type": "code",
   "execution_count": 18,
   "metadata": {
    "ExecuteTime": {
     "end_time": "2018-06-29T22:06:31.359922Z",
     "start_time": "2018-06-29T22:06:31.342848Z"
    }
   },
   "outputs": [
    {
     "name": "stdout",
     "output_type": "stream",
     "text": [
      "[4 4 6 2 7]\n"
     ]
    }
   ],
   "source": [
    "array1 = np.array([4, 3, 4, 6, 1, 8, 2, 7])\n",
    "index1 = [0, 2, 3, 6, -1]\n",
    "print(array1[index1])"
   ]
  },
  {
   "cell_type": "markdown",
   "metadata": {},
   "source": [
    "It is often very convenient to use *boolean* arrays to select elements from your array."
   ]
  },
  {
   "cell_type": "code",
   "execution_count": 19,
   "metadata": {
    "ExecuteTime": {
     "end_time": "2018-06-29T22:06:32.834068Z",
     "start_time": "2018-06-29T22:06:32.817969Z"
    }
   },
   "outputs": [
    {
     "name": "stdout",
     "output_type": "stream",
     "text": [
      "[3.2410e+01 2.2570e+01 2.1990e+01 2.8100e+01 2.1000e+00 4.4820e+01\n",
      " 3.2110e+01 9.9894e+04 1.5800e+01 3.8720e+01 1.1580e+01]\n"
     ]
    }
   ],
   "source": [
    "data = np.array(\n",
    "    [ [32.41, 22.57, 21.99, 28.1],\n",
    "      [-0.83, 2.1, 44.82, 32.11],\n",
    "      [99894, 15.8, 38.72, 11.58] ]\n",
    ")\n",
    "\n",
    "print(data[data > 0])"
   ]
  },
  {
   "cell_type": "markdown",
   "metadata": {},
   "source": [
    "The old `not`, `&`, `|` don't work for arrays of boolens. Use `np.logical_not(x)`, `np.logical_and(x, y)`, and `np.logical_or(x, y)` instead."
   ]
  },
  {
   "cell_type": "code",
   "execution_count": 20,
   "metadata": {
    "ExecuteTime": {
     "end_time": "2018-06-29T22:06:33.994851Z",
     "start_time": "2018-06-29T22:06:33.976600Z"
    }
   },
   "outputs": [
    {
     "name": "stdout",
     "output_type": "stream",
     "text": [
      "[32.41 22.57 21.99 28.1   2.1  44.82 32.11 15.8  38.72 11.58]\n"
     ]
    }
   ],
   "source": [
    "print(data[ np.logical_and(data > 0, data < 10000) ])"
   ]
  },
  {
   "cell_type": "markdown",
   "metadata": {},
   "source": [
    "#### Exercise\n",
    "\n",
    "Suppose we do some observational astronomy project. Every night, we point our telescope to one specific source; we record some **characteristic wavelength of light (in nm) and the duration** (in seconds) over which we made the observation. These data are recorded in `wavelength` and `duration` arrays.\n",
    "\n",
    "We want to compute the mean wavelength of the source. *However*, we want to **ignore some bad-quality data**. In computing your average, ignore all negative wavelength measurements (detector malfunction) and any nights where the observation time was too short (less than 1 minute).\n",
    "\n",
    "Write a function `mean_obs_wavelength` that implements this calculation. Do **NOT** use any explicit `for` loops."
   ]
  },
  {
   "cell_type": "code",
   "execution_count": 21,
   "metadata": {
    "ExecuteTime": {
     "end_time": "2018-06-29T22:06:42.355009Z",
     "start_time": "2018-06-29T22:06:42.342247Z"
    }
   },
   "outputs": [],
   "source": [
    "def mean_obs_wavelength(wavelength, duration):\n",
    "    return np.mean(wavelength[ np.logical_and(wavelength > 0, duration > 60) ])"
   ]
  },
  {
   "cell_type": "code",
   "execution_count": 22,
   "metadata": {
    "ExecuteTime": {
     "end_time": "2018-06-29T22:06:43.977694Z",
     "start_time": "2018-06-29T22:06:43.964447Z"
    }
   },
   "outputs": [
    {
     "name": "stdout",
     "output_type": "stream",
     "text": [
      "804.375\n"
     ]
    }
   ],
   "source": [
    "obs = np.array(\n",
    "    [500, 630, 701, -3, 850, 600, 425, 351, -1, 951, 952, 882, -4, 869])\n",
    "time = np.array(\n",
    "    [58, 1030, 580, 5, 923, 94, 28, 29, 12, 4914, 96, 846, 8429, 1848])\n",
    "\n",
    "print(mean_obs_wavelength(obs, time))"
   ]
  },
  {
   "cell_type": "markdown",
   "metadata": {},
   "source": [
    "#### Broadcasting `NumPy` Arrays\n",
    "\n",
    "Suppose you are doing some basic experiment that involves electronics. You data look like:\n",
    "```Python\n",
    "volt = np.array(\n",
    "    [ [4.3, 2.5, 4.3, 3.8, 3.6, 2.9],\n",
    "      [8.8, 6.0, 7.5, 9.2, 9.1, 6.0],\n",
    "      [27.0, 35.1, 28.3, 27.3, 24.8, 30.1] ]\n",
    ")\n",
    "\n",
    "resi = np.array(\n",
    "    [ 2, 5, 10]\n",
    ")\n",
    "```\n",
    "\n",
    "Here is what your data represent. You have 3 samples, each with resistance $2, 5, 10 \\Omega$. Across each sample, you measured the voltage across it 6 times; these measurements are represented by each row (second dimension) in the `volt` array.\n",
    "\n",
    "Suppose we want to calculate the current through the sample corresponding to the each voltage measurement."
   ]
  },
  {
   "cell_type": "code",
   "execution_count": 23,
   "metadata": {
    "ExecuteTime": {
     "end_time": "2018-06-29T22:06:45.805222Z",
     "start_time": "2018-06-29T22:06:45.733849Z"
    }
   },
   "outputs": [
    {
     "ename": "ValueError",
     "evalue": "operands could not be broadcast together with shapes (3,6) (3,) ",
     "output_type": "error",
     "traceback": [
      "\u001b[0;31m---------------------------------------------------------------------------\u001b[0m",
      "\u001b[0;31mValueError\u001b[0m                                Traceback (most recent call last)",
      "\u001b[0;32m<ipython-input-23-d3f75ab68aa3>\u001b[0m in \u001b[0;36m<module>\u001b[0;34m()\u001b[0m\n\u001b[1;32m      9\u001b[0m )\n\u001b[1;32m     10\u001b[0m \u001b[0;34m\u001b[0m\u001b[0m\n\u001b[0;32m---> 11\u001b[0;31m \u001b[0mcurr\u001b[0m \u001b[0;34m=\u001b[0m \u001b[0mvolt\u001b[0m \u001b[0;34m/\u001b[0m \u001b[0mresi\u001b[0m\u001b[0;34m\u001b[0m\u001b[0m\n\u001b[0m",
      "\u001b[0;31mValueError\u001b[0m: operands could not be broadcast together with shapes (3,6) (3,) "
     ]
    }
   ],
   "source": [
    "volt = np.array(\n",
    "    [ [4.3, 2.5, 4.3, 3.8, 3.6, 2.9],\n",
    "      [8.8, 6.0, 7.5, 9.2, 9.1, 6.0],\n",
    "      [17.0, 25.1, 14.3, 11.3, 12.8, 16.1] ]\n",
    ")\n",
    "\n",
    "resi = np.array(\n",
    "    [ 2, 5, 10]\n",
    ")\n",
    "\n",
    "curr = volt / resi"
   ]
  },
  {
   "cell_type": "markdown",
   "metadata": {},
   "source": [
    "Because `resi` is not a scalar, this operation **doesn't work** naturally. However, if `NumPy` is indeed so smart, there must be a good way of computing this, without having a for loop.\n",
    "\n",
    "To do that, we need a way to tell Python, **\"Hey, align the `resi` dimension along the *second* dimension of `volt`, and divide each *row* of `volt` by *each* element from `resi`.\"**\n",
    "\n",
    "This is done like the following:"
   ]
  },
  {
   "cell_type": "code",
   "execution_count": 24,
   "metadata": {
    "ExecuteTime": {
     "end_time": "2018-06-29T22:06:48.079628Z",
     "start_time": "2018-06-29T22:06:48.056668Z"
    }
   },
   "outputs": [
    {
     "name": "stdout",
     "output_type": "stream",
     "text": [
      "[[ 2]\n",
      " [ 5]\n",
      " [10]]\n",
      "[[2.15 1.25 2.15 1.9  1.8  1.45]\n",
      " [1.76 1.2  1.5  1.84 1.82 1.2 ]\n",
      " [1.7  2.51 1.43 1.13 1.28 1.61]]\n",
      "[1.78333333 1.55333333 1.61      ]\n",
      "[0.33623735 0.27341462 0.44530888]\n"
     ]
    }
   ],
   "source": [
    "print(resi[:, np.newaxis])\n",
    "\n",
    "curr = volt / resi[:, np.newaxis]\n",
    "\n",
    "print(curr)\n",
    "print(curr.mean(axis=1))\n",
    "print(curr.std(axis=1))"
   ]
  },
  {
   "cell_type": "markdown",
   "metadata": {},
   "source": [
    "#### Down-side of `NumPy` Arrays\n",
    "\n",
    "`np` arrays are *not* completely perfect. There are some aspects that are not so wonderful.\n",
    "\n",
    "First, it **cannot change in shape**. There is no `arr.append(x)`, unlike lists. To do this, you will need to go back to lists. Something like:\n",
    "```Python\n",
    "list_data = []\n",
    "# Append whatever data you want here\n",
    "# and then create the array\n",
    "list_array = np.array(list_data)\n",
    "```\n",
    "Or use `np.concatenate`. `np` can join two `np` arrays to return another one. You can concatenate your existing array with an array of additional data, and overwrite with the concatenated array.\n",
    "```Python\n",
    "data = some_experimental_data_as_np_array\n",
    "x = new_measurement_to_add\n",
    "# data.append(data) doesn't work, because data is not a list\n",
    "# but this works!\n",
    "data = np.concatenate( (data, np.array(x)) )\n",
    "```"
   ]
  },
  {
   "cell_type": "markdown",
   "metadata": {},
   "source": [
    "Second, `np` arrays have to be *cubic* in shape. Along one dimension of a `np` array, the shapes of each element cannot be different."
   ]
  },
  {
   "cell_type": "code",
   "execution_count": 25,
   "metadata": {
    "ExecuteTime": {
     "end_time": "2018-06-29T22:06:51.160432Z",
     "start_time": "2018-06-29T22:06:51.146148Z"
    }
   },
   "outputs": [
    {
     "name": "stdout",
     "output_type": "stream",
     "text": [
      "[list([4.3, 2.5, 4.3, 3.8, 3.6, 2.9, 3.8, 2.6, 3.2])\n",
      " list([8.8, 6.0, 7.5, 9.2, 9.1, 6.0, 3.1, 2.1])\n",
      " list([17.0, 25.1, 14.3, 11.3, 12.8, 16.1])]\n"
     ]
    },
    {
     "ename": "TypeError",
     "evalue": "unsupported operand type(s) for /: 'list' and 'int'",
     "output_type": "error",
     "traceback": [
      "\u001b[0;31m---------------------------------------------------------------------------\u001b[0m",
      "\u001b[0;31mTypeError\u001b[0m                                 Traceback (most recent call last)",
      "\u001b[0;32m<ipython-input-25-51c59471e685>\u001b[0m in \u001b[0;36m<module>\u001b[0;34m()\u001b[0m\n\u001b[1;32m      8\u001b[0m \u001b[0mprint\u001b[0m\u001b[0;34m(\u001b[0m\u001b[0mvolt\u001b[0m\u001b[0;34m)\u001b[0m\u001b[0;34m\u001b[0m\u001b[0m\n\u001b[1;32m      9\u001b[0m \u001b[0;34m\u001b[0m\u001b[0m\n\u001b[0;32m---> 10\u001b[0;31m \u001b[0mcurr\u001b[0m \u001b[0;34m=\u001b[0m \u001b[0mvolt\u001b[0m \u001b[0;34m/\u001b[0m \u001b[0mresi\u001b[0m\u001b[0;34m[\u001b[0m\u001b[0;34m:\u001b[0m\u001b[0;34m,\u001b[0m \u001b[0mnp\u001b[0m\u001b[0;34m.\u001b[0m\u001b[0mnewaxis\u001b[0m\u001b[0;34m]\u001b[0m\u001b[0;34m\u001b[0m\u001b[0m\n\u001b[0m",
      "\u001b[0;31mTypeError\u001b[0m: unsupported operand type(s) for /: 'list' and 'int'"
     ]
    }
   ],
   "source": [
    "# Suppose you added some measurement\n",
    "volt = np.array(\n",
    "    [ [4.3, 2.5, 4.3, 3.8, 3.6, 2.9, 3.8, 2.6, 3.2],\n",
    "      [8.8, 6.0, 7.5, 9.2, 9.1, 6.0, 3.1, 2.1],\n",
    "      [17.0, 25.1, 14.3, 11.3, 12.8, 16.1] ]\n",
    ")\n",
    "\n",
    "print(volt)\n",
    "\n",
    "curr = volt / resi[:, np.newaxis]"
   ]
  },
  {
   "cell_type": "markdown",
   "metadata": {},
   "source": [
    "To work around this, *padding* is a good trick. Pad your input list with some special values, and skip them for actual data analysis "
   ]
  },
  {
   "cell_type": "code",
   "execution_count": 26,
   "metadata": {
    "ExecuteTime": {
     "end_time": "2018-06-29T22:06:58.996932Z",
     "start_time": "2018-06-29T22:06:58.976309Z"
    }
   },
   "outputs": [
    {
     "name": "stdout",
     "output_type": "stream",
     "text": [
      "[[   4.3    2.5    4.3    3.8    3.6    2.9    3.8    2.6    3.2]\n",
      " [   8.8    6.     7.5    9.2    9.1    6.     3.1    2.1 -100. ]\n",
      " [  17.    25.1   14.3   11.3   12.8   16.1 -100.  -100.  -100. ]]\n"
     ]
    }
   ],
   "source": [
    "volt = np.array(\n",
    "    [ [4.3, 2.5, 4.3, 3.8, 3.6, 2.9, 3.8, 2.6, 3.2],\n",
    "      [8.8, 6.0, 7.5, 9.2, 9.1, 6.0, 3.1, 2.1, -100],\n",
    "      [17.0, 25.1, 14.3, 11.3, 12.8, 16.1, -100, -100, -100] ]\n",
    ")\n",
    "\n",
    "print(volt)"
   ]
  }
 ],
 "metadata": {
  "kernelspec": {
   "display_name": "Python 3",
   "language": "python",
   "name": "python3"
  },
  "language_info": {
   "codemirror_mode": {
    "name": "ipython",
    "version": 3
   },
   "file_extension": ".py",
   "mimetype": "text/x-python",
   "name": "python",
   "nbconvert_exporter": "python",
   "pygments_lexer": "ipython3",
   "version": "3.6.6"
  },
  "varInspector": {
   "cols": {
    "lenName": 16,
    "lenType": 16,
    "lenVar": 40
   },
   "kernels_config": {
    "python": {
     "delete_cmd_postfix": "",
     "delete_cmd_prefix": "del ",
     "library": "var_list.py",
     "varRefreshCmd": "print(var_dic_list())"
    },
    "r": {
     "delete_cmd_postfix": ") ",
     "delete_cmd_prefix": "rm(",
     "library": "var_list.r",
     "varRefreshCmd": "cat(var_dic_list()) "
    }
   },
   "types_to_exclude": [
    "module",
    "function",
    "builtin_function_or_method",
    "instance",
    "_Feature"
   ],
   "window_display": false
  }
 },
 "nbformat": 4,
 "nbformat_minor": 2
}
