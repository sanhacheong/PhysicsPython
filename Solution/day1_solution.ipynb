{
 "cells": [
  {
   "cell_type": "markdown",
   "metadata": {},
   "source": [
    "# Day 1\n",
    "# Introduction to Python & Jupyter Notebook\n",
    "\n",
    "**Jupyter Notebooks** (e.g. this file right now) is a great interface to write and test Python codes. You can write and run small chunks of codes, keep the results, quickly edit and test, etc.\n",
    "\n",
    "In this 3-day workshop, we will use Jupyter Notebooks that I have prepared to go through some basic and intermediate Python programming useful for scientific research."
   ]
  },
  {
   "cell_type": "markdown",
   "metadata": {},
   "source": [
    "## 1. Basics"
   ]
  },
  {
   "cell_type": "markdown",
   "metadata": {},
   "source": [
    "### (A) Simple numerical functions\n",
    "At the very basic level, Python, just like any other programming langauge, is an advanced calculator. (After all, that is all a computer is.)\n",
    "\n",
    "You can run simple calculations, just as you would in a calculator. To execute a cell and move onto the next cell, press `Shift + Enter`. Use `Ctrl + Enter` if you want to run a cell, but not move onto the next cell."
   ]
  },
  {
   "cell_type": "code",
   "execution_count": 1,
   "metadata": {
    "ExecuteTime": {
     "end_time": "2018-06-27T11:09:34.947560Z",
     "start_time": "2018-06-27T11:09:34.928569Z"
    }
   },
   "outputs": [
    {
     "data": {
      "text/plain": [
       "2398"
      ]
     },
     "execution_count": 1,
     "metadata": {},
     "output_type": "execute_result"
    }
   ],
   "source": [
    "# Addition is done with +\n",
    "2251 + 147"
   ]
  },
  {
   "cell_type": "code",
   "execution_count": 5,
   "metadata": {
    "ExecuteTime": {
     "end_time": "2018-06-27T11:09:56.800151Z",
     "start_time": "2018-06-27T11:09:56.790549Z"
    }
   },
   "outputs": [
    {
     "data": {
      "text/plain": [
       "74"
      ]
     },
     "execution_count": 5,
     "metadata": {},
     "output_type": "execute_result"
    }
   ],
   "source": [
    "# Subtraction is done with -\n",
    "# Parentheses work as you would expect\n",
    "82 - (3 + 5)"
   ]
  },
  {
   "cell_type": "code",
   "execution_count": 9,
   "metadata": {
    "ExecuteTime": {
     "end_time": "2018-06-27T11:11:23.373622Z",
     "start_time": "2018-06-27T11:11:23.363802Z"
    }
   },
   "outputs": [
    {
     "data": {
      "text/plain": [
       "-655200"
      ]
     },
     "execution_count": 9,
     "metadata": {},
     "output_type": "execute_result"
    }
   ],
   "source": [
    "# Multiplication is done with *\n",
    "# Layers of parentheses also work just the way you expect them to\n",
    "48 * ((23 - 2) * 5 * 10) * (2 + 5 - 10 * 2)"
   ]
  },
  {
   "cell_type": "markdown",
   "metadata": {},
   "source": [
    "#### Some *caveats* with basic numerical functions\n",
    "\n",
    "Next natural thing to test would be division, right? If you have used other programming languages before, you might know about the trap of \"**integer-division**.\" In many languages, `42 / 5` will yield `8` and not `8.4`. This is because computers typically deal only with **integers**, *unless explicitly told otherwise*. Python 3, however, will **yield `8.4` by default**; i.e., it automatically knows to *floating point* division even with integers. If you actually want integer division, use `//` instead.\n",
    "\n",
    "(This is not the case in Python 2.)"
   ]
  },
  {
   "cell_type": "code",
   "execution_count": 10,
   "metadata": {
    "ExecuteTime": {
     "end_time": "2018-06-27T11:11:36.358355Z",
     "start_time": "2018-06-27T11:11:36.347526Z"
    }
   },
   "outputs": [
    {
     "data": {
      "text/plain": [
       "8.4"
      ]
     },
     "execution_count": 10,
     "metadata": {},
     "output_type": "execute_result"
    }
   ],
   "source": [
    "# This is a normal (floating-point) division\n",
    "42 / 5"
   ]
  },
  {
   "cell_type": "code",
   "execution_count": 11,
   "metadata": {
    "ExecuteTime": {
     "end_time": "2018-06-27T11:11:36.889964Z",
     "start_time": "2018-06-27T11:11:36.879961Z"
    }
   },
   "outputs": [
    {
     "data": {
      "text/plain": [
       "8"
      ]
     },
     "execution_count": 11,
     "metadata": {},
     "output_type": "execute_result"
    }
   ],
   "source": [
    "# This is an integer-division\n",
    "42 // 5"
   ]
  },
  {
   "cell_type": "markdown",
   "metadata": {},
   "source": [
    "`%` between two numbers computes \"the (positive) remainder\" of diving the former by the latter."
   ]
  },
  {
   "cell_type": "code",
   "execution_count": 43,
   "metadata": {
    "ExecuteTime": {
     "end_time": "2018-06-27T11:26:10.083141Z",
     "start_time": "2018-06-27T11:26:10.074276Z"
    }
   },
   "outputs": [
    {
     "data": {
      "text/plain": [
       "2"
      ]
     },
     "execution_count": 43,
     "metadata": {},
     "output_type": "execute_result"
    }
   ],
   "source": [
    "42 % 5"
   ]
  },
  {
   "cell_type": "code",
   "execution_count": 46,
   "metadata": {
    "ExecuteTime": {
     "end_time": "2018-06-27T11:26:29.419105Z",
     "start_time": "2018-06-27T11:26:29.409123Z"
    }
   },
   "outputs": [
    {
     "data": {
      "text/plain": [
       "4"
      ]
     },
     "execution_count": 46,
     "metadata": {},
     "output_type": "execute_result"
    }
   ],
   "source": [
    "-31 % 7"
   ]
  },
  {
   "cell_type": "markdown",
   "metadata": {},
   "source": [
    "What's another common numerical operation? Exponents!\n",
    "\n",
    "Unlike typical calculators, `^` is not \"to the power of.\" It is `**`.\n",
    "\n",
    "(`^` is something called a \"bit-wise XOR.\" You most likely will not need these often, if ever.)"
   ]
  },
  {
   "cell_type": "code",
   "execution_count": 12,
   "metadata": {
    "ExecuteTime": {
     "end_time": "2018-06-27T11:11:39.524736Z",
     "start_time": "2018-06-27T11:11:39.514923Z"
    }
   },
   "outputs": [
    {
     "data": {
      "text/plain": [
       "2.7048138294215285"
      ]
     },
     "execution_count": 12,
     "metadata": {},
     "output_type": "execute_result"
    }
   ],
   "source": [
    "# Bad approximation of Euler's number e\n",
    "(1 + 0.01) ** 100"
   ]
  },
  {
   "cell_type": "markdown",
   "metadata": {},
   "source": [
    "You can use `e` as a quick way to do powers of 10. For instance, `1e3` $=1000$ and `1e-6` $=0.000001$."
   ]
  },
  {
   "cell_type": "markdown",
   "metadata": {},
   "source": [
    "#### Exercise\n",
    "\n",
    "Using what you have learned so far, write a numerical expression that approximates the Euler's number $e$ up to the 4th decimal place or better (the example above is bad!). As a reminder, $e$ is defined as:\n",
    "\n",
    "$$ e = \\lim_{n->\\infty} \\left(1 + \\frac{1}{n}\\right)^n $$\n",
    "\n",
    "Because we cannot actually use $\\lim_{n->\\infty}$ in numerical expressions, substitute some very large number for $n$.\n",
    "\n",
    "Can you do this without having to write something like `10000000000` and keeping track of how many zeroes you entered?\n",
    "\n",
    "As a reference, the Euler's number $e$ is roughly $2.718281$."
   ]
  },
  {
   "cell_type": "code",
   "execution_count": 137,
   "metadata": {
    "ExecuteTime": {
     "end_time": "2018-06-27T17:24:09.357124Z",
     "start_time": "2018-06-27T17:24:09.351185Z"
    }
   },
   "outputs": [
    {
     "data": {
      "text/plain": [
       "2.7182820532347876"
      ]
     },
     "execution_count": 137,
     "metadata": {},
     "output_type": "execute_result"
    }
   ],
   "source": [
    "# Better approximation of e\n",
    "# without having to write out 0.0000000001 and 10000000000\n",
    "\n",
    "##################################\n",
    "# Write your own code here!      #\n",
    "##################################\n",
    "(1 + 1e-10) ** 1e10"
   ]
  },
  {
   "cell_type": "markdown",
   "metadata": {},
   "source": [
    "#### Writing your own functions\n",
    "\n",
    "You can write your own function using the keyword `def`. Use the `return` keyword to define what the result of your function is."
   ]
  },
  {
   "cell_type": "code",
   "execution_count": 14,
   "metadata": {
    "ExecuteTime": {
     "end_time": "2018-06-27T11:11:56.528629Z",
     "start_time": "2018-06-27T11:11:56.520299Z"
    }
   },
   "outputs": [
    {
     "data": {
      "text/plain": [
       "4.0"
      ]
     },
     "execution_count": 14,
     "metadata": {},
     "output_type": "execute_result"
    }
   ],
   "source": [
    "# Add two values and divide by 2\n",
    "def mean2(x, y):\n",
    "    return (x + y) / 2\n",
    "\n",
    "mean2(3.2, 4.8)"
   ]
  },
  {
   "cell_type": "markdown",
   "metadata": {},
   "source": [
    "#### Exercise\n",
    "\n",
    "Write a function `mean3(x, y, z)` that returns the mean of the three inputs."
   ]
  },
  {
   "cell_type": "code",
   "execution_count": 15,
   "metadata": {
    "ExecuteTime": {
     "end_time": "2018-06-27T11:11:58.327867Z",
     "start_time": "2018-06-27T11:11:58.316815Z"
    }
   },
   "outputs": [
    {
     "data": {
      "text/plain": [
       "4.333333333333333"
      ]
     },
     "execution_count": 15,
     "metadata": {},
     "output_type": "execute_result"
    }
   ],
   "source": [
    "def mean3(x, y, z):\n",
    "    ##################################\n",
    "    # Write your own code here!      #\n",
    "    ##################################\n",
    "    return (mean2(x, y)*2 + z) / 3\n",
    "\n",
    "mean3(1, 3, 9)"
   ]
  },
  {
   "cell_type": "markdown",
   "metadata": {},
   "source": [
    "#### Python `math` package\n",
    "\n",
    "Thankfully, you don't have to write all the common numerical functions yourself! Many advanced numerical functions like $\\sin(x)$ and $\\log(x)$ can be found in the `math` package. It also includes some useful constants including $\\pi$ and $e$. `math` comes with Python by default."
   ]
  },
  {
   "cell_type": "code",
   "execution_count": 25,
   "metadata": {
    "ExecuteTime": {
     "end_time": "2018-06-27T11:12:30.248355Z",
     "start_time": "2018-06-27T11:12:30.233085Z"
    }
   },
   "outputs": [
    {
     "data": {
      "text/plain": [
       "1405006117752879898543142606244511569936384000000000"
      ]
     },
     "execution_count": 25,
     "metadata": {},
     "output_type": "execute_result"
    }
   ],
   "source": [
    "import math\n",
    "\n",
    "math.factorial(42)"
   ]
  },
  {
   "cell_type": "code",
   "execution_count": 26,
   "metadata": {
    "ExecuteTime": {
     "end_time": "2018-06-27T11:12:30.736542Z",
     "start_time": "2018-06-27T11:12:30.730483Z"
    }
   },
   "outputs": [
    {
     "data": {
      "text/plain": [
       "1.0"
      ]
     },
     "execution_count": 26,
     "metadata": {},
     "output_type": "execute_result"
    }
   ],
   "source": [
    "math.sin(math.pi / 2)"
   ]
  },
  {
   "cell_type": "markdown",
   "metadata": {},
   "source": [
    "### (B) Other data types: boolean and string\n",
    "\n",
    "You can also work with values other than integers and floats (real numbers).\n",
    "\n",
    "One common type is called **boolean**. These are simply `True` or `False` values. You can do logical operations like `not`, `&` for AND, `|` for OR, etc."
   ]
  },
  {
   "cell_type": "code",
   "execution_count": 16,
   "metadata": {
    "ExecuteTime": {
     "end_time": "2018-06-27T11:12:01.920071Z",
     "start_time": "2018-06-27T11:12:01.900039Z"
    }
   },
   "outputs": [
    {
     "data": {
      "text/plain": [
       "True"
      ]
     },
     "execution_count": 16,
     "metadata": {},
     "output_type": "execute_result"
    }
   ],
   "source": [
    "# Negation\n",
    "not False"
   ]
  },
  {
   "cell_type": "code",
   "execution_count": 17,
   "metadata": {
    "ExecuteTime": {
     "end_time": "2018-06-27T11:12:08.562914Z",
     "start_time": "2018-06-27T11:12:08.554354Z"
    }
   },
   "outputs": [
    {
     "data": {
      "text/plain": [
       "False"
      ]
     },
     "execution_count": 17,
     "metadata": {},
     "output_type": "execute_result"
    }
   ],
   "source": [
    "# No statement can be True AND not True at the same time\n",
    "True & (not True)"
   ]
  },
  {
   "cell_type": "code",
   "execution_count": 18,
   "metadata": {
    "ExecuteTime": {
     "end_time": "2018-06-27T11:12:09.369350Z",
     "start_time": "2018-06-27T11:12:09.346735Z"
    }
   },
   "outputs": [
    {
     "data": {
      "text/plain": [
       "True"
      ]
     },
     "execution_count": 18,
     "metadata": {},
     "output_type": "execute_result"
    }
   ],
   "source": [
    "# A statement is always True or False\n",
    "True | False"
   ]
  },
  {
   "cell_type": "markdown",
   "metadata": {},
   "source": [
    "You can also use comparisons to return boolean values. Use operators like: `<`, `<=`, `>`, `>=`, and `==`."
   ]
  },
  {
   "cell_type": "code",
   "execution_count": 19,
   "metadata": {
    "ExecuteTime": {
     "end_time": "2018-06-27T11:12:10.993019Z",
     "start_time": "2018-06-27T11:12:10.985120Z"
    }
   },
   "outputs": [
    {
     "data": {
      "text/plain": [
       "False"
      ]
     },
     "execution_count": 19,
     "metadata": {},
     "output_type": "execute_result"
    }
   ],
   "source": [
    "3 < 2"
   ]
  },
  {
   "cell_type": "code",
   "execution_count": 20,
   "metadata": {
    "ExecuteTime": {
     "end_time": "2018-06-27T11:12:11.714979Z",
     "start_time": "2018-06-27T11:12:11.697162Z"
    }
   },
   "outputs": [
    {
     "data": {
      "text/plain": [
       "True"
      ]
     },
     "execution_count": 20,
     "metadata": {},
     "output_type": "execute_result"
    }
   ],
   "source": [
    "-0.5 >= -2"
   ]
  },
  {
   "cell_type": "code",
   "execution_count": 138,
   "metadata": {
    "ExecuteTime": {
     "end_time": "2018-06-27T17:24:25.487930Z",
     "start_time": "2018-06-27T17:24:25.476990Z"
    }
   },
   "outputs": [
    {
     "data": {
      "text/plain": [
       "False"
      ]
     },
     "execution_count": 138,
     "metadata": {},
     "output_type": "execute_result"
    }
   ],
   "source": [
    "# Note that equality comparison is done with `==` and not `=`\n",
    "2 == 2.001"
   ]
  },
  {
   "cell_type": "markdown",
   "metadata": {},
   "source": [
    "Python can also understand **multiple inequalities/comparisons** in series. This is really neat!"
   ]
  },
  {
   "cell_type": "code",
   "execution_count": 22,
   "metadata": {
    "ExecuteTime": {
     "end_time": "2018-06-27T11:12:13.159234Z",
     "start_time": "2018-06-27T11:12:13.153408Z"
    }
   },
   "outputs": [
    {
     "data": {
      "text/plain": [
       "False"
      ]
     },
     "execution_count": 22,
     "metadata": {},
     "output_type": "execute_result"
    }
   ],
   "source": [
    "2 < 3 < 2\n",
    "# This is the same as (2 < 3) & (3 < 2), which is (True) & (False)"
   ]
  },
  {
   "cell_type": "code",
   "execution_count": 23,
   "metadata": {
    "ExecuteTime": {
     "end_time": "2018-06-27T11:12:15.643285Z",
     "start_time": "2018-06-27T11:12:15.635846Z"
    }
   },
   "outputs": [
    {
     "data": {
      "text/plain": [
       "True"
      ]
     },
     "execution_count": 23,
     "metadata": {},
     "output_type": "execute_result"
    }
   ],
   "source": [
    "-1 <= 4 < 10000\n",
    "# This is the same as (-1 <= 4) & (4 < 10000), which is (True) & (True)"
   ]
  },
  {
   "cell_type": "markdown",
   "metadata": {},
   "source": [
    "Using the comparison operators and boolean values, you can also write a function like this:"
   ]
  },
  {
   "cell_type": "code",
   "execution_count": 24,
   "metadata": {
    "ExecuteTime": {
     "end_time": "2018-06-27T11:12:19.767751Z",
     "start_time": "2018-06-27T11:12:19.751642Z"
    }
   },
   "outputs": [
    {
     "data": {
      "text/plain": [
       "True"
      ]
     },
     "execution_count": 24,
     "metadata": {},
     "output_type": "execute_result"
    }
   ],
   "source": [
    "def similar(a, b, diff):\n",
    "    return -diff <= (a - b) <= diff\n",
    "\n",
    "similar(4.333, mean3(1,3,9), 0.01)"
   ]
  },
  {
   "cell_type": "markdown",
   "metadata": {},
   "source": [
    "String is a programming jargon for \"text.\" You can also write any regular texts by surrounding them with quotation marks like `\"this\"`."
   ]
  },
  {
   "cell_type": "code",
   "execution_count": 49,
   "metadata": {
    "ExecuteTime": {
     "end_time": "2018-06-27T11:41:01.038769Z",
     "start_time": "2018-06-27T11:41:01.029650Z"
    }
   },
   "outputs": [
    {
     "data": {
      "text/plain": [
       "'asdkfllvnqpowifnoqfind'"
      ]
     },
     "execution_count": 49,
     "metadata": {},
     "output_type": "execute_result"
    }
   ],
   "source": [
    "\"asdkfllvnqpowifnoqfind\""
   ]
  },
  {
   "cell_type": "code",
   "execution_count": 50,
   "metadata": {
    "ExecuteTime": {
     "end_time": "2018-06-27T11:41:12.434791Z",
     "start_time": "2018-06-27T11:41:12.425102Z"
    }
   },
   "outputs": [
    {
     "data": {
      "text/plain": [
       "'Hello! This is an English sentence!'"
      ]
     },
     "execution_count": 50,
     "metadata": {},
     "output_type": "execute_result"
    }
   ],
   "source": [
    "\"Hello! This is an English sentence!\""
   ]
  },
  {
   "cell_type": "markdown",
   "metadata": {
    "ExecuteTime": {
     "end_time": "2018-06-26T00:56:28.391007Z",
     "start_time": "2018-06-26T00:56:28.378436Z"
    }
   },
   "source": [
    "### (C) Re-using codes you wrote and storing your results\n",
    "\n",
    "Of course, you can store and re-use your results using \"**variables**\". Using variables, you don't have to repeat same calculations every single time, and you don't have to write a complicated function in one line.\n",
    "\n",
    "Jupyter Notebook, by default, stores the return values (results) of all cells. You can access them with `Out[n]` (or `_n`)."
   ]
  },
  {
   "cell_type": "code",
   "execution_count": 28,
   "metadata": {
    "ExecuteTime": {
     "end_time": "2018-06-27T11:12:49.324954Z",
     "start_time": "2018-06-27T11:12:49.310634Z"
    }
   },
   "outputs": [
    {
     "data": {
      "text/plain": [
       "True"
      ]
     },
     "execution_count": 28,
     "metadata": {},
     "output_type": "execute_result"
    }
   ],
   "source": [
    "# Use whatever cell output number for your high-accuracy e\n",
    "# that you computed above\n",
    "similar(Out[13], math.e, 1e-4)"
   ]
  },
  {
   "cell_type": "markdown",
   "metadata": {},
   "source": [
    "You can also **store results into your own variables using `=`**. Note that `=` in programming often doesn't really mean \"*equals*\". `=` in programming should really be read more as \"*becomes*\" or \"gets assigned to.\"\n",
    "\n",
    "If a return value is stored explicitly into a variable, it is not printed below the cell by default. Use the function `print(x)` to actually print the result.\n",
    "\n",
    "**Make sure you understand what is happening in the 3 cells below. This is important!**"
   ]
  },
  {
   "cell_type": "code",
   "execution_count": 29,
   "metadata": {
    "ExecuteTime": {
     "end_time": "2018-06-27T11:13:09.474172Z",
     "start_time": "2018-06-27T11:13:09.460430Z"
    }
   },
   "outputs": [
    {
     "name": "stdout",
     "output_type": "stream",
     "text": [
      "3\n",
      "3\n"
     ]
    }
   ],
   "source": [
    "x = 3\n",
    "y = x\n",
    "\n",
    "print(x)\n",
    "print(y)"
   ]
  },
  {
   "cell_type": "code",
   "execution_count": 30,
   "metadata": {
    "ExecuteTime": {
     "end_time": "2018-06-27T11:13:10.016234Z",
     "start_time": "2018-06-27T11:13:10.001237Z"
    }
   },
   "outputs": [
    {
     "name": "stdout",
     "output_type": "stream",
     "text": [
      "8\n",
      "3\n"
     ]
    }
   ],
   "source": [
    "x = 8\n",
    "\n",
    "print(x)\n",
    "print(y)"
   ]
  },
  {
   "cell_type": "code",
   "execution_count": 31,
   "metadata": {
    "ExecuteTime": {
     "end_time": "2018-06-27T11:13:10.585781Z",
     "start_time": "2018-06-27T11:13:10.579592Z"
    }
   },
   "outputs": [
    {
     "name": "stdout",
     "output_type": "stream",
     "text": [
      "8\n",
      "5\n"
     ]
    }
   ],
   "source": [
    "y += 2\n",
    "\n",
    "print(x)\n",
    "print(y)"
   ]
  },
  {
   "cell_type": "markdown",
   "metadata": {},
   "source": [
    "Storing results into variables of your choice, **you can write multi-line codes** to compute something more complicated, maybe with multiple inputs."
   ]
  },
  {
   "cell_type": "code",
   "execution_count": 51,
   "metadata": {
    "ExecuteTime": {
     "end_time": "2018-06-27T11:41:50.424118Z",
     "start_time": "2018-06-27T11:41:50.412239Z"
    }
   },
   "outputs": [
    {
     "name": "stdout",
     "output_type": "stream",
     "text": [
      "0.9999999999999999\n",
      "0.9999999999999999\n",
      "Are the two functions consistent with each other?\n",
      "True\n"
     ]
    }
   ],
   "source": [
    "from math import hypot\n",
    "\n",
    "def hypotenuse(a, b):\n",
    "    return math.sqrt(a**2 + b**2)\n",
    "\n",
    "# None of these numbers will get printed\n",
    "a = 0.5\n",
    "b = math.sqrt(3) / 2\n",
    "c1 = hypot(a, b)\n",
    "c2 = hypotenuse(a, b)\n",
    "\n",
    "# But we will print the result we want.\n",
    "# Does `math.hypot(a, b)` behave as expected?\n",
    "print(c1)\n",
    "print(c2)\n",
    "print(\"Are the two functions consistent with each other?\")\n",
    "print(math.isclose(c1, c2))"
   ]
  },
  {
   "cell_type": "markdown",
   "metadata": {},
   "source": [
    "#### Exercise\n",
    "\n",
    "Write your own function that takes the inputs $x, \\mu, \\sigma$ and returns the Gaussian probability density at $x$ with mean $\\mu$ and standard deviation $\\sigma$. That is, return:\n",
    "\n",
    "$$ f(x) = \\frac{1}{\\sqrt{2\\pi} \\sigma} \\exp \\left( -\\frac{(x - \\mu)^2}{2\\sigma^2} \\right) $$\n",
    "\n",
    "Only use the constant $\\pi$ and the functions that I have imported from the `math` package for you."
   ]
  },
  {
   "cell_type": "code",
   "execution_count": 33,
   "metadata": {
    "ExecuteTime": {
     "end_time": "2018-06-27T11:13:34.893197Z",
     "start_time": "2018-06-27T11:13:34.883334Z"
    }
   },
   "outputs": [],
   "source": [
    "from math import exp, sqrt, pi\n",
    "\n",
    "def gaussian(x, mu, sigma):\n",
    "    ##################################\n",
    "    # Write your own code here!      #\n",
    "    ##################################\n",
    "    power = (x - mu) ** 2 / sigma ** 2\n",
    "    return exp(-power / 2) / (sqrt(2*pi) * sigma)"
   ]
  },
  {
   "cell_type": "code",
   "execution_count": 34,
   "metadata": {
    "ExecuteTime": {
     "end_time": "2018-06-27T11:13:35.793186Z",
     "start_time": "2018-06-27T11:13:35.779193Z"
    }
   },
   "outputs": [
    {
     "name": "stdout",
     "output_type": "stream",
     "text": [
      "True\n",
      "True\n",
      "True\n"
     ]
    }
   ],
   "source": [
    "# Check your answers using the `isclose` function\n",
    "from math import isclose\n",
    "\n",
    "print( isclose(gaussian(0, 0, 1), 0.3989422804014327) )\n",
    "print( isclose(gaussian(0.27, 3.2, 4.9), 0.06808820166446068) )\n",
    "print( isclose(gaussian(-3, 4.1, 2.5), 0.0028284419544077795) )"
   ]
  },
  {
   "cell_type": "markdown",
   "metadata": {},
   "source": [
    "#### Building upon functions you already wrote\n",
    "\n",
    "You can also store a **function** as a variable."
   ]
  },
  {
   "cell_type": "code",
   "execution_count": 35,
   "metadata": {
    "ExecuteTime": {
     "end_time": "2018-06-27T11:13:57.874562Z",
     "start_time": "2018-06-27T11:13:57.865027Z"
    }
   },
   "outputs": [
    {
     "name": "stdout",
     "output_type": "stream",
     "text": [
      "0.06808820166446068\n",
      "0.06808820166446068\n"
     ]
    }
   ],
   "source": [
    "gaus = gaussian\n",
    "\n",
    "print(gaussian(0.27, 3.2, 4.9))\n",
    "print(gaus(0.27, 3.2, 4.9))"
   ]
  },
  {
   "cell_type": "markdown",
   "metadata": {
    "ExecuteTime": {
     "end_time": "2018-06-26T16:24:37.947605Z",
     "start_time": "2018-06-26T16:24:37.931433Z"
    }
   },
   "source": [
    "How is this useful? Isn't it just re-naming the function?   \n",
    "Well, this means that a function can be **passed as an input argument to another function**. For example, you might want to write **a function that takes an input function $f$** and a real number $x$ and outputs the numerical derivative at that point."
   ]
  },
  {
   "cell_type": "markdown",
   "metadata": {},
   "source": [
    "#### Exercise\n",
    "\n",
    "Write a numerical derivative function for 1-dimensional real-valued function. Recall that the derivative of such a function $f$ at a point $x$ is defined as:\n",
    "\n",
    "$$ f'(x) = \\lim_{h \\rightarrow 0} \\frac{f(x+h) - f(x)}{h} $$\n",
    "\n",
    "However, we cannot implement $\\lim_{h \\rightarrow 0}$ numerically. So, just use some extremely small value for $h$. A default value of `h=1e-6` should do.\n",
    "\n",
    "It is known that, for numerical accuracies, it is better to use:\n",
    "\n",
    "$$ f'(x) = \\lim_{h \\rightarrow 0} \\frac{f(x+h) - f(x-h)}{2h} $$\n",
    "\n",
    "(If the function is differentiable at $x$, the two equations are mathematically equivalent. However, the latter is preferred numerically.)"
   ]
  },
  {
   "cell_type": "code",
   "execution_count": 114,
   "metadata": {
    "ExecuteTime": {
     "end_time": "2018-06-27T17:09:38.982474Z",
     "start_time": "2018-06-27T17:09:38.967426Z"
    }
   },
   "outputs": [],
   "source": [
    "def deriv(f, x, h=1e-6):\n",
    "    ##################################\n",
    "    # Write your own code here!      #\n",
    "    ##################################\n",
    "    f1 = f(x+h)\n",
    "    f2 = f(x-h)\n",
    "    return (f1 - f2) / (2 * h)"
   ]
  },
  {
   "cell_type": "code",
   "execution_count": 107,
   "metadata": {
    "ExecuteTime": {
     "end_time": "2018-06-27T17:08:51.271894Z",
     "start_time": "2018-06-27T17:08:51.245112Z"
    }
   },
   "outputs": [
    {
     "name": "stdout",
     "output_type": "stream",
     "text": [
      "8.000000000230045\n",
      "0.0\n",
      "-1000000000081.9333\n"
     ]
    }
   ],
   "source": [
    "# Test your derivative function for the functions below\n",
    "def quad(x):\n",
    "    return x**2\n",
    "\n",
    "from math import sin, tan\n",
    "\n",
    "print( deriv(quad, 4) )       # This should be roughly 2*x\n",
    "print( deriv(sin, pi/2) )     # This should be?\n",
    "print( deriv(tan, pi/2) )     # What is happening here?!"
   ]
  },
  {
   "cell_type": "markdown",
   "metadata": {},
   "source": [
    "But what about the `gaussian` function we wrote above? Gaussian p.d.f. is a single-valued real function, but the function we wrote above actually has more arguments than just $x$; it has $\\mu$ and $\\sigma$. How do I evaluate the derivative of a particular Gaussian? Of course, you could do something like...\n",
    "\n",
    "```python\n",
    "def gaus_deriv(x, mu, sigma, h=1e-6):\n",
    "    g1 = gaussian(x+h, mu, sigma)\n",
    "    g2 = gaussian(x-h, mu, sigma)\n",
    "    return (g1 - g2) / (2 * h)\n",
    "```\n",
    "\n",
    "... but this is clearly silly. We will need a separate derivative function for all sorts of functions with additional parameters!\n",
    "\n",
    "Instead of writing a separate Gaussian-derivative function that also include $\\mu, \\sigma$ as inputs, can I specify $\\mu$ and $\\sigma$ outside of the `deriv` function and only allow $x$ to vary?\n",
    "\n",
    "Of course!"
   ]
  },
  {
   "cell_type": "code",
   "execution_count": 112,
   "metadata": {
    "ExecuteTime": {
     "end_time": "2018-06-27T17:09:29.279378Z",
     "start_time": "2018-06-27T17:09:29.273959Z"
    }
   },
   "outputs": [
    {
     "name": "stdout",
     "output_type": "stream",
     "text": [
      "0.3989422804014327\n"
     ]
    }
   ],
   "source": [
    "# This is a Gaussian function with mu=0 and sigma=1\n",
    "# i.e. a normal distribution\n",
    "norm_pdf = lambda x: gaussian(x, 0, 1)\n",
    "\n",
    "# Note that norm_pdf now only takes one input, x.\n",
    "# This value should be 0.3989422804014327\n",
    "print( norm_pdf(0) )"
   ]
  },
  {
   "cell_type": "markdown",
   "metadata": {},
   "source": [
    "```python\n",
    "norm_pdf = lambda x: gaussian(x, 0, 1)\n",
    "```\n",
    "is very very very similar to\n",
    "```python\n",
    "def norm_pdf(x):\n",
    "    return gaussian(x, 0, 1)\n",
    "```\n",
    "\n",
    "Now, you can take the derivative of any Gaussian by **first specifying the parameters** $\\mu$ and $\\sigma$ using `lambda` and **then passing the lambda-function** into the `deriv` function you wrote above."
   ]
  },
  {
   "cell_type": "code",
   "execution_count": 115,
   "metadata": {
    "ExecuteTime": {
     "end_time": "2018-06-27T17:09:43.869737Z",
     "start_time": "2018-06-27T17:09:43.853313Z"
    }
   },
   "outputs": [
    {
     "name": "stdout",
     "output_type": "stream",
     "text": [
      "0.0\n",
      "-0.24197072451270785\n",
      "0.24197072451270785\n"
     ]
    }
   ],
   "source": [
    "# This value should be close to 0\n",
    "print(deriv(norm_pdf, 0))\n",
    "# These values should be the negative of each other\n",
    "print(deriv(norm_pdf, 1))\n",
    "print(deriv(norm_pdf, -1))"
   ]
  },
  {
   "cell_type": "markdown",
   "metadata": {},
   "source": [
    "You can think of `lambda` as an anonymous function. The `lambda` function is really **AMAZING**. You can do so many things with it. If you are interested, google to see more examples.\n",
    "\n",
    "For now, you can also do something like:"
   ]
  },
  {
   "cell_type": "code",
   "execution_count": 110,
   "metadata": {
    "ExecuteTime": {
     "end_time": "2018-06-27T17:09:04.055060Z",
     "start_time": "2018-06-27T17:09:04.045040Z"
    }
   },
   "outputs": [
    {
     "name": "stdout",
     "output_type": "stream",
     "text": [
      "0.24197072451270785\n"
     ]
    }
   ],
   "source": [
    "def gaus_func(mu, sigma):\n",
    "    return lambda x: gaussian(x, mu, sigma)\n",
    "\n",
    "print(deriv( gaus_func(0, 1), -1))"
   ]
  },
  {
   "cell_type": "markdown",
   "metadata": {},
   "source": [
    "### (C) Control flow: `if`, `else`, `while`\n",
    "\n",
    "This is all cool so far, but we often need much more complicated logical structures than just \"here are some inputs, compute this output.\" We might want to compute different things, *depending* on some conditions of the inputs, for example.\n",
    "\n",
    "To do this, we use **`if` and `else` statements**."
   ]
  },
  {
   "cell_type": "code",
   "execution_count": 63,
   "metadata": {
    "ExecuteTime": {
     "end_time": "2018-06-27T16:19:01.952957Z",
     "start_time": "2018-06-27T16:19:01.941576Z"
    }
   },
   "outputs": [
    {
     "name": "stdout",
     "output_type": "stream",
     "text": [
      "The input is positive!\n",
      "The input is not even!\n"
     ]
    }
   ],
   "source": [
    "def is_positive(x):\n",
    "    if x > 0:\n",
    "        print(\"The input is positive!\")\n",
    "\n",
    "def is_even(x):    \n",
    "    if (n % 2) == 0:\n",
    "        print(\"The input is even!\")\n",
    "    else:\n",
    "        print(\"The input is not even!\")\n",
    "\n",
    "n = 12389120489125\n",
    "is_positive(n)\n",
    "is_even(n)"
   ]
  },
  {
   "cell_type": "markdown",
   "metadata": {},
   "source": [
    "#### Exercise\n",
    "\n",
    "Suppose you have some voltage read-out data collected from an experiment. There is probably some particular typical range of voltage you expect to get from the experiment, if everything is going smoothly.\n",
    "\n",
    "However, an electronic burst or any other unexpected noise might be included in your data. Assuming your typical voltage readout is somewhere within the range $\\pm 10$ V, write a function `check_voltage` that prints out a statement depending on what the input is.\n",
    "\n",
    "Print `\"Good data!\"` *if* the voltage value is somewhat reasonable (within $\\pm 20$ V, for instance) and `\"Something went wrong!\"` *if* otherwise."
   ]
  },
  {
   "cell_type": "code",
   "execution_count": 59,
   "metadata": {
    "ExecuteTime": {
     "end_time": "2018-06-27T11:50:24.308852Z",
     "start_time": "2018-06-27T11:50:24.304168Z"
    }
   },
   "outputs": [],
   "source": [
    "def check_voltage(V, V_max=20):\n",
    "    ##################################\n",
    "    # Write your own code here!      #\n",
    "    ##################################\n",
    "    if -V_max < V < V_max:\n",
    "        print(\"Good data!\")\n",
    "    else:\n",
    "        print(\"Something went wrong!\")"
   ]
  },
  {
   "cell_type": "code",
   "execution_count": 62,
   "metadata": {
    "ExecuteTime": {
     "end_time": "2018-06-27T11:50:49.527818Z",
     "start_time": "2018-06-27T11:50:49.519287Z"
    }
   },
   "outputs": [
    {
     "name": "stdout",
     "output_type": "stream",
     "text": [
      "Good data!\n",
      "Good data!\n",
      "Something went wrong!\n",
      "Good data!\n"
     ]
    }
   ],
   "source": [
    "# Test your results\n",
    "check_voltage(17.1931)\n",
    "check_voltage(85.41, 100)\n",
    "check_voltage(-241.23)\n",
    "check_voltage(-0.5)"
   ]
  },
  {
   "cell_type": "markdown",
   "metadata": {},
   "source": [
    "#### Exercise\n",
    "\n",
    "Now, when we encounter a weird value, let's modify our data instead of just printing a warning.\n",
    "\n",
    "Write a function `clip_value` that forces an input to be between some minmium and maximum values $x_{min}$ and $x_{max}$. That is, if the input $x$ is greater than $x_{max}$, return a value equal to $x_{max}$; if $x$ is smaller than $x_{min}$, return $x_{min}$. If the value is already between $x_{min}$ and $x_{max}$, just return itself."
   ]
  },
  {
   "cell_type": "code",
   "execution_count": 67,
   "metadata": {
    "ExecuteTime": {
     "end_time": "2018-06-27T16:25:53.617835Z",
     "start_time": "2018-06-27T16:25:53.576745Z"
    }
   },
   "outputs": [],
   "source": [
    "def clip_value(x, x_min, x_max):\n",
    "    ##################################\n",
    "    # Write your own code here!      #\n",
    "    ##################################\n",
    "    if x < x_min:\n",
    "        return x_min\n",
    "    elif x > x_max:\n",
    "        return x_max\n",
    "    return x"
   ]
  },
  {
   "cell_type": "code",
   "execution_count": 69,
   "metadata": {
    "ExecuteTime": {
     "end_time": "2018-06-27T16:26:56.046981Z",
     "start_time": "2018-06-27T16:26:56.017360Z"
    }
   },
   "outputs": [
    {
     "name": "stdout",
     "output_type": "stream",
     "text": [
      "-3.7\n",
      "100\n",
      "0\n"
     ]
    }
   ],
   "source": [
    "x = -3.7\n",
    "x = clip_value(x, -20, 20)\n",
    "print(x)\n",
    "\n",
    "x = 124\n",
    "x = clip_value(x, 0, 100)\n",
    "print(x)\n",
    "\n",
    "x = -3.2\n",
    "x = clip_value(x, 0, 50)\n",
    "print(x)"
   ]
  },
  {
   "cell_type": "markdown",
   "metadata": {},
   "source": [
    "`while` is also a useful control flow statement. It lets you **repeat some codes** inside the `while`-statement, *while* a certain condition is met.\n",
    "\n",
    "![while](./img/while_flowchart.png)\n",
    "\n",
    "As a simple example, you can do something like:"
   ]
  },
  {
   "cell_type": "code",
   "execution_count": 71,
   "metadata": {
    "ExecuteTime": {
     "end_time": "2018-06-27T16:32:06.717617Z",
     "start_time": "2018-06-27T16:32:06.688828Z"
    }
   },
   "outputs": [
    {
     "name": "stdout",
     "output_type": "stream",
     "text": [
      "55\n"
     ]
    }
   ],
   "source": [
    "i = 0\n",
    "total = 0\n",
    "\n",
    "while i <= 10:\n",
    "    total += i\n",
    "    i += 1\n",
    "\n",
    "print(total)"
   ]
  },
  {
   "cell_type": "markdown",
   "metadata": {},
   "source": [
    "#### Exercise\n",
    "\n",
    "Have you heard of Newton's method? It is an **iterative algorithm** that can obtain numerical solutions to equations of the form $f(x) = 0$ very quickly. Here is how it works.\n",
    "\n",
    "First, start with an initial guess $x_0$. Evaluate $f(x_0)$, and see *if* it is equal to (or very close to) $0$. *If* so, you are done! You got lucky, and your initial guess was good enough.\n",
    "\n",
    "*If* not, you try a better solution given by:\n",
    "\n",
    "$$ x_1 = x_0 - \\frac{f(x_0)}{f'(x_0)} $$\n",
    "\n",
    "Then, with this better guess $x_1$, try again.\n",
    "\n",
    "You repeat the above steps until you find a satisfactory solution. i.e. *while* your solution is not good enough, **update your solution** to be $ x_{i+1} = x_i - \\frac{f(x_i)}{f'(x_i)}$.\n",
    "\n",
    "Why does this specific update rule actually work?\n",
    "\n",
    "![newton_method](./img/newton_method_graph.png)\n",
    "\n",
    "In essence, each update is equivalent to drawing the tangent line to the function $f$ at our current guess, and updating the solution to the point where the tangent line hits $0$.\n",
    "\n",
    "Use what you have learned so far and the `deriv(f, x, h)` function we wrote above to implement a `newton_method` function.\n",
    "\n",
    "Judge whether your solution is \"close enough\" using a parameter `tol` (for tolerance). You solution is good enough if you $\\left| f(x_{sol}) \\right| <$ `tol` where `tol` is a very small number."
   ]
  },
  {
   "cell_type": "code",
   "execution_count": 133,
   "metadata": {
    "ExecuteTime": {
     "end_time": "2018-06-27T17:15:19.786047Z",
     "start_time": "2018-06-27T17:15:19.779425Z"
    }
   },
   "outputs": [],
   "source": [
    "def newton_method(f, x0, tol=1e-9):\n",
    "    ##################################\n",
    "    # Write your own code here!      #\n",
    "    ##################################\n",
    "    sol = x0\n",
    "    while not -tol < f(sol) < tol:\n",
    "        sol -= f(sol) / deriv(f, sol)\n",
    "    return sol"
   ]
  },
  {
   "cell_type": "code",
   "execution_count": 134,
   "metadata": {
    "ExecuteTime": {
     "end_time": "2018-06-27T17:15:20.493129Z",
     "start_time": "2018-06-27T17:15:20.486553Z"
    }
   },
   "outputs": [
    {
     "name": "stdout",
     "output_type": "stream",
     "text": [
      "This should be close to pi/2\n",
      "1.5707963267948966\n",
      "How does initial guess influence the solution you get, in case your function has multiple roots?\n",
      "3.0\n",
      "3.000000000026863\n",
      "-2.000000000026863\n",
      "-2.0\n"
     ]
    }
   ],
   "source": [
    "from math import cos\n",
    "print(\"This should be close to pi/2\")\n",
    "print(newton_method(cos, 0.5))\n",
    "\n",
    "print(\"How does initial guess influence the solution you get,\\\n",
    " in case your function has multiple roots?\")\n",
    "\n",
    "def some_polynomial(x):\n",
    "    return (x-3) * (x+2)\n",
    "# How does initial guess influence the solution you get\n",
    "# in case your function has multiple roots?\n",
    "print(newton_method(some_polynomial, 2))\n",
    "print(newton_method(some_polynomial, 1))\n",
    "print(newton_method(some_polynomial, 0))\n",
    "print(newton_method(some_polynomial, -1))"
   ]
  },
  {
   "cell_type": "markdown",
   "metadata": {},
   "source": [
    "#### Exercise\n",
    "\n",
    "Using the `deriv` and `newton_method` function, can you write an `optimize` function? i.e. a function that takes a function and an initial guess as an input, and returns a nearby minimum/maximum point?\n",
    "\n",
    "Hint: do you remember how to use `lambda`?\n",
    "\n",
    "(This is not a numerically very stable way of doing it... but it works for now.)"
   ]
  },
  {
   "cell_type": "code",
   "execution_count": 139,
   "metadata": {
    "ExecuteTime": {
     "end_time": "2018-06-27T17:27:21.952766Z",
     "start_time": "2018-06-27T17:27:21.943499Z"
    }
   },
   "outputs": [],
   "source": [
    "def optimize(f, x0, tol=1e-3):\n",
    "    ##################################\n",
    "    # Write your own code here!      #\n",
    "    ##################################\n",
    "    f_prime = lambda x: deriv(f, x)\n",
    "    sol = newton_method(f_prime, x0, tol)\n",
    "    return sol"
   ]
  },
  {
   "cell_type": "code",
   "execution_count": 141,
   "metadata": {
    "ExecuteTime": {
     "end_time": "2018-06-27T17:27:29.563547Z",
     "start_time": "2018-06-27T17:27:29.543354Z"
    }
   },
   "outputs": [
    {
     "name": "stdout",
     "output_type": "stream",
     "text": [
      "This should be close to pi/2\n",
      "1.570796308043923\n",
      "This should be close to 3\n",
      "2.999999999999929\n",
      "What happens here? Does this function have a minimum or a maximum?\n",
      "0.9843751003004408\n"
     ]
    }
   ],
   "source": [
    "print(\"This should be close to pi/2\")\n",
    "print(optimize(sin, 0.8))\n",
    "\n",
    "def another_polynomial(x):\n",
    "    return (x-3) ** 2\n",
    "print(\"This should be close to 3\")\n",
    "print(optimize(another_polynomial, 1))\n",
    "\n",
    "def last_polynomial(x):\n",
    "    return (x-1) ** 3\n",
    "print(\"What happens here? Does this function have a minimum or a maximum?\")\n",
    "print(optimize(last_polynomial, 0))"
   ]
  },
  {
   "cell_type": "code",
   "execution_count": null,
   "metadata": {},
   "outputs": [],
   "source": []
  }
 ],
 "metadata": {
  "kernelspec": {
   "display_name": "Python 3",
   "language": "python",
   "name": "python3"
  },
  "language_info": {
   "codemirror_mode": {
    "name": "ipython",
    "version": 3
   },
   "file_extension": ".py",
   "mimetype": "text/x-python",
   "name": "python",
   "nbconvert_exporter": "python",
   "pygments_lexer": "ipython3",
   "version": "3.6.6"
  },
  "varInspector": {
   "cols": {
    "lenName": 16,
    "lenType": 16,
    "lenVar": 40
   },
   "kernels_config": {
    "python": {
     "delete_cmd_postfix": "",
     "delete_cmd_prefix": "del ",
     "library": "var_list.py",
     "varRefreshCmd": "print(var_dic_list())"
    },
    "r": {
     "delete_cmd_postfix": ") ",
     "delete_cmd_prefix": "rm(",
     "library": "var_list.r",
     "varRefreshCmd": "cat(var_dic_list()) "
    }
   },
   "types_to_exclude": [
    "module",
    "function",
    "builtin_function_or_method",
    "instance",
    "_Feature"
   ],
   "window_display": false
  }
 },
 "nbformat": 4,
 "nbformat_minor": 2
}
