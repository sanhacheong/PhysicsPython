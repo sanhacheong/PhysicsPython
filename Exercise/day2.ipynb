{
 "cells": [
  {
   "cell_type": "markdown",
   "metadata": {},
   "source": [
    "# Day 2"
   ]
  },
  {
   "cell_type": "markdown",
   "metadata": {},
   "source": [
    "## (A) More on Control Flow with Loops\n",
    "\n",
    "In Day 1 Notebook, we learned about **basic numerical and boolean-logical computations in Python** and writing some simple functions. We ended the workshop yesterday with some **basic control flow using `if` and `else` statements**; now we can write codes that act differently, based on some boolean conditions that we code.\n",
    "\n",
    "Now, we introduce some more control flow statements using **loops**. Loops allow us to **repeat a block of code**."
   ]
  },
  {
   "cell_type": "markdown",
   "metadata": {},
   "source": [
    "### While Loop\n",
    "\n",
    "`while` is also a control flow keyword. It lets you **repeat some codes** inside the `while` statement, *while* a certain condition is met.\n",
    "\n",
    "![while](../img/while_flowchart.png)\n",
    "\n",
    "As a simple example, you can do something like:"
   ]
  },
  {
   "cell_type": "code",
   "execution_count": 1,
   "metadata": {
    "ExecuteTime": {
     "end_time": "2018-06-28T22:44:46.692754Z",
     "start_time": "2018-06-28T22:44:46.672209Z"
    }
   },
   "outputs": [
    {
     "name": "stdout",
     "output_type": "stream",
     "text": [
      "18\n"
     ]
    }
   ],
   "source": [
    "i = 0\n",
    "total = 0\n",
    "\n",
    "# This code sums up all multiples of 3 from i=0 to i=9\n",
    "while i <= 10:\n",
    "    total += i\n",
    "    i += 3\n",
    "\n",
    "# 0 + 3 + 6 + 9 = 18\n",
    "print(total)"
   ]
  },
  {
   "cell_type": "markdown",
   "metadata": {},
   "source": [
    "#### Exercise\n",
    "\n",
    "Have you heard of Newton's method? It is an **iterative algorithm** that can obtain numerical solutions to equations of the form $f(x) = 0$ very quickly. Here is how it works.\n",
    "\n",
    "First, start with an initial guess $x_0$. Evaluate $f(x_0)$, and see *if* it is equal to (or very close to) $0$. *If* so, you are done! You got lucky, and your initial guess was good enough.\n",
    "\n",
    "*If* not, you try a better solution given by:\n",
    "\n",
    "$$ x_1 = x_0 - \\frac{f(x_0)}{f'(x_0)} $$\n",
    "\n",
    "Then, with this better guess $x_1$, try again.\n",
    "\n",
    "You repeat the above steps until you find a satisfactory solution. i.e. *while* your solution is not good enough, **update your solution** to be $ x_{i+1} = x_i - \\frac{f(x_i)}{f'(x_i)}$.\n",
    "\n",
    "Why does this specific update rule actually work?\n",
    "\n",
    "![newton_method](../img/newton_method_graph.png)\n",
    "\n",
    "In essence, each update is equivalent to drawing the tangent line to the function $f$ at our current guess, and updating the solution to the point where the tangent line hits $0$.\n",
    "\n",
    "Use what you have learned so far and the `deriv(f, x, h)` function we wrote above to implement a `newton_method` function.\n",
    "\n",
    "Judge whether your solution is \"close enough\" using a parameter `tol` (for tolerance). You solution is good enough if you $\\left| f(x_{sol}) \\right| <$ `tol` where `tol` is a very small number."
   ]
  },
  {
   "cell_type": "code",
   "execution_count": 4,
   "metadata": {
    "ExecuteTime": {
     "end_time": "2018-06-28T22:55:16.271743Z",
     "start_time": "2018-06-28T22:55:16.255296Z"
    }
   },
   "outputs": [],
   "source": [
    "# Numerical derivative code from day 1\n",
    "# No need to write more code here; just run this cell and define the function\n",
    "def deriv(f, x, h=1e-6):\n",
    "    f1 = f(x+h)\n",
    "    f2 = f(x-h)\n",
    "    return (f1 - f2) / (2 * h)"
   ]
  },
  {
   "cell_type": "code",
   "execution_count": 7,
   "metadata": {
    "ExecuteTime": {
     "end_time": "2018-06-28T22:56:37.140247Z",
     "start_time": "2018-06-28T22:56:37.112357Z"
    }
   },
   "outputs": [],
   "source": [
    "def newton_method(f, x0, tol=1e-9):\n",
    "    ##################################\n",
    "    # Write your own code here!      #\n",
    "    ##################################\n",
    "    sol = x0\n",
    "    while not (-tol <= f(sol) <= tol):\n",
    "        sol -= f(sol) / deriv(f, sol)\n",
    "    return sol"
   ]
  },
  {
   "cell_type": "code",
   "execution_count": 8,
   "metadata": {
    "ExecuteTime": {
     "end_time": "2018-06-28T22:56:37.474728Z",
     "start_time": "2018-06-28T22:56:37.468020Z"
    }
   },
   "outputs": [
    {
     "name": "stdout",
     "output_type": "stream",
     "text": [
      "This should be close to pi/2\n",
      "1.5707963267948966\n",
      "How does initial guess influence the solution you get, in case your function has multiple roots?\n",
      "3.0\n",
      "3.000000000026863\n",
      "-2.000000000026863\n",
      "-2.0\n"
     ]
    }
   ],
   "source": [
    "from math import cos\n",
    "print(\"This should be close to pi/2\")\n",
    "print(newton_method(cos, 0.5))\n",
    "\n",
    "print(\"How does initial guess influence the solution you get,\\\n",
    " in case your function has multiple roots?\")\n",
    "\n",
    "def some_polynomial(x):\n",
    "    return (x-3) * (x+2)\n",
    "# How does initial guess influence the solution you get\n",
    "# in case your function has multiple roots?\n",
    "print(newton_method(some_polynomial, 2))\n",
    "print(newton_method(some_polynomial, 1))\n",
    "print(newton_method(some_polynomial, 0))\n",
    "print(newton_method(some_polynomial, -1))"
   ]
  },
  {
   "cell_type": "markdown",
   "metadata": {
    "ExecuteTime": {
     "end_time": "2018-06-28T07:36:04.806656Z",
     "start_time": "2018-06-28T07:36:04.791750Z"
    }
   },
   "source": [
    "#### Exercise\n",
    "\n",
    "Using the `deriv` and `newton_method` function, can you write an `optimize` function? i.e. a function that takes a function and an initial guess as an input, and returns a nearby minimum/maximum point?\n",
    "\n",
    "Hint: Do you remember how to use `lambda`?\n",
    "\n",
    "(This is not a numerically very stable way of doing it... but it works for now.)"
   ]
  },
  {
   "cell_type": "code",
   "execution_count": null,
   "metadata": {
    "ExecuteTime": {
     "end_time": "2018-06-28T10:58:34.782286Z",
     "start_time": "2018-06-28T10:58:34.775255Z"
    }
   },
   "outputs": [],
   "source": [
    "def optimize(f, x0, tol=1e-3):\n",
    "    ##################################\n",
    "    # Write your own code here!      #\n",
    "    ##################################\n",
    "    return "
   ]
  },
  {
   "cell_type": "code",
   "execution_count": null,
   "metadata": {
    "ExecuteTime": {
     "end_time": "2018-06-28T10:58:35.262653Z",
     "start_time": "2018-06-28T10:58:35.256653Z"
    }
   },
   "outputs": [],
   "source": [
    "from math import sin\n",
    "\n",
    "print(\"This should be close to pi/2\")\n",
    "print(optimize(sin, 0.8))\n",
    "\n",
    "def another_polynomial(x):\n",
    "    return (x-3) ** 2\n",
    "print(\"This should be close to 3\")\n",
    "print(optimize(another_polynomial, 1))\n",
    "\n",
    "def last_polynomial(x):\n",
    "    return (x-1) ** 3\n",
    "print(\"What happens here? Does this function have a minimum or a maximum?\")\n",
    "print(optimize(last_polynomial, 0))"
   ]
  },
  {
   "cell_type": "markdown",
   "metadata": {},
   "source": [
    "### For Loop\n",
    "\n",
    "Another loop control flow keyword is `for`. However, this should really be read as \"for each\".\n",
    "\n",
    "A useful function that goes well together with `for` is `range`. See the examples below to understand what `range` does."
   ]
  },
  {
   "cell_type": "code",
   "execution_count": 9,
   "metadata": {
    "ExecuteTime": {
     "end_time": "2018-06-28T22:59:47.728603Z",
     "start_time": "2018-06-28T22:59:47.712135Z"
    }
   },
   "outputs": [
    {
     "name": "stdout",
     "output_type": "stream",
     "text": [
      "45\n"
     ]
    }
   ],
   "source": [
    "sum_1 = 0\n",
    "\n",
    "# This for-loop iterates through i=0 to i=9\n",
    "for i in range(10):\n",
    "    sum_1 += i\n",
    "print(sum_1)"
   ]
  },
  {
   "cell_type": "code",
   "execution_count": 10,
   "metadata": {
    "ExecuteTime": {
     "end_time": "2018-06-28T23:01:28.194364Z",
     "start_time": "2018-06-28T23:01:28.172872Z"
    }
   },
   "outputs": [
    {
     "name": "stdout",
     "output_type": "stream",
     "text": [
      "95\n"
     ]
    }
   ],
   "source": [
    "sum_2 = 0\n",
    "# This for-loop iterates through i=5 to i=14\n",
    "for i in range(5, 15):\n",
    "    sum_2 += i\n",
    "print(sum_2)"
   ]
  },
  {
   "cell_type": "markdown",
   "metadata": {},
   "source": [
    "It is important to note that the iteration **does NOT include the very last value** of `range`."
   ]
  },
  {
   "cell_type": "markdown",
   "metadata": {},
   "source": [
    "The Python `range` function also allows for **integer increments other than 1**."
   ]
  },
  {
   "cell_type": "code",
   "execution_count": 11,
   "metadata": {
    "ExecuteTime": {
     "end_time": "2018-06-28T23:02:11.505420Z",
     "start_time": "2018-06-28T23:02:11.489650Z"
    }
   },
   "outputs": [
    {
     "name": "stdout",
     "output_type": "stream",
     "text": [
      "0\n",
      "7\n",
      "14\n",
      "21\n",
      "28\n",
      "35\n",
      "42\n",
      "49\n"
     ]
    }
   ],
   "source": [
    "# Iterate from i=0 to i=49 with an increment of 7\n",
    "for i in range(0, 50, 7):\n",
    "    print(i)"
   ]
  },
  {
   "cell_type": "markdown",
   "metadata": {},
   "source": [
    "#### Exercise\n",
    "\n",
    "Write your own `factorial` function. This function should take one integer input $n$ and return $n! \\equiv \\Pi_{i=1}^{n} i$."
   ]
  },
  {
   "cell_type": "code",
   "execution_count": 12,
   "metadata": {
    "ExecuteTime": {
     "end_time": "2018-06-28T23:07:33.433560Z",
     "start_time": "2018-06-28T23:07:33.410468Z"
    }
   },
   "outputs": [],
   "source": [
    "def factorial(n):\n",
    "    ##################################\n",
    "    # Write your own code here!      #\n",
    "    ##################################\n",
    "    return "
   ]
  },
  {
   "cell_type": "code",
   "execution_count": 13,
   "metadata": {
    "ExecuteTime": {
     "end_time": "2018-06-28T23:07:34.052668Z",
     "start_time": "2018-06-28T23:07:34.046958Z"
    }
   },
   "outputs": [
    {
     "name": "stdout",
     "output_type": "stream",
     "text": [
      "6\n",
      "720\n",
      "2432902008176640000\n"
     ]
    }
   ],
   "source": [
    "# Test your factorial function with this cell\n",
    "\n",
    "print(factorial(3))    # 6\n",
    "print(factorial(6))    # 720\n",
    "print(factorial(20))   # Factorial grows really fast..."
   ]
  },
  {
   "cell_type": "markdown",
   "metadata": {},
   "source": [
    "You can also nest control-flow statements within each other. For example, you can have an `if` statement within a `for` loop."
   ]
  },
  {
   "cell_type": "code",
   "execution_count": 14,
   "metadata": {
    "ExecuteTime": {
     "end_time": "2018-06-28T23:08:27.018257Z",
     "start_time": "2018-06-28T23:08:26.994489Z"
    }
   },
   "outputs": [
    {
     "name": "stdout",
     "output_type": "stream",
     "text": [
      "0\n",
      "7\n",
      "14\n",
      "21\n",
      "28\n",
      "35\n",
      "42\n",
      "49\n"
     ]
    }
   ],
   "source": [
    "# Iterate from i=0 to i=49\n",
    "for i in range(0, 50):\n",
    "    # If i is divisible by 7\n",
    "    if (i % 7) == 0:\n",
    "        print(i)"
   ]
  },
  {
   "cell_type": "markdown",
   "metadata": {},
   "source": [
    "The above cell does the same thing as a cell earlier on with `range(0, 50, 7)`."
   ]
  },
  {
   "cell_type": "markdown",
   "metadata": {},
   "source": [
    "Similarly, you can also do something like this:"
   ]
  },
  {
   "cell_type": "code",
   "execution_count": 17,
   "metadata": {
    "ExecuteTime": {
     "end_time": "2018-06-28T23:09:56.796795Z",
     "start_time": "2018-06-28T23:09:56.772317Z"
    }
   },
   "outputs": [
    {
     "name": "stdout",
     "output_type": "stream",
     "text": [
      "1\n",
      "2\n",
      "4\n",
      "5\n",
      "7\n",
      "8\n",
      "10\n"
     ]
    }
   ],
   "source": [
    "# This function prints all positive integers less than or equal to n\n",
    "# that are not divisible by 3\n",
    "def not_triple(n):\n",
    "    for i in range(1, n+1): # Use n+1 as the upper bound to include n\n",
    "        if (i % 3) != 0:\n",
    "            print(i)\n",
    "\n",
    "# Note that it prints 10 as well\n",
    "not_triple(10)"
   ]
  },
  {
   "cell_type": "markdown",
   "metadata": {},
   "source": [
    "#### Exercise\n",
    "\n",
    "Write a function `all_primes` that takes one positive integer input `n` and prints all prime numbers less than or equal to `n`.\n",
    "\n",
    "Hint: Double (nested) `for` loop is a thing.  \n",
    "Hint: Use a variable `prime` to keep track of whether each number is a prime number or not.  \n",
    "Hint: $i$ is not a prime if it is divisible by *any* integer in the range $[2, i-1]$."
   ]
  },
  {
   "cell_type": "code",
   "execution_count": 22,
   "metadata": {
    "ExecuteTime": {
     "end_time": "2018-06-28T23:22:38.980670Z",
     "start_time": "2018-06-28T23:22:38.950129Z"
    }
   },
   "outputs": [],
   "source": [
    "def all_primes(n):\n",
    "    ##################################\n",
    "    # Write your own code here!      #\n",
    "    ##################################\n",
    "    "
   ]
  },
  {
   "cell_type": "code",
   "execution_count": 23,
   "metadata": {
    "ExecuteTime": {
     "end_time": "2018-06-28T23:22:39.223052Z",
     "start_time": "2018-06-28T23:22:39.213309Z"
    }
   },
   "outputs": [
    {
     "name": "stdout",
     "output_type": "stream",
     "text": [
      "2\n",
      "3\n",
      "5\n",
      "7\n",
      "11\n",
      "13\n",
      "17\n",
      "19\n",
      "23\n",
      "29\n",
      "31\n",
      "37\n",
      "41\n",
      "43\n",
      "47\n",
      "53\n",
      "59\n"
     ]
    }
   ],
   "source": [
    "all_primes(60)"
   ]
  },
  {
   "cell_type": "markdown",
   "metadata": {
    "ExecuteTime": {
     "end_time": "2018-06-28T07:49:39.519516Z",
     "start_time": "2018-06-28T07:49:39.263447Z"
    }
   },
   "source": [
    "#### Exercise\n",
    "\n",
    "Does the term \"Riemann Sum\" sound familiar to you? Riemann sum is a way to approximate a definite integral (i.e. area under a curve) using finite sum.\n",
    "\n",
    "As an example, suppose you want to evaluate the integral:\n",
    "\n",
    "$$ \\int_{0}^{2} x^3 \\mathrm{d}x $$\n",
    "\n",
    "using Riemann sum. The exact answer is, of course, $ \\left. \\frac{x^4}{4} \\right|^{2}_{0} = \\frac{16}{4} - 0 = 4$.\n",
    "\n",
    "A very coarse (bad) approximation of the above integral using Riemann sum is represented by the following plot.\n",
    "\n",
    "![riemann_sum](../img/riemann_sum.png)\n",
    "\n",
    "If we sum all the areas of 4 blue rectangles, we will get something close to the area under the curve. The Riemann sum in this case should evaluate to:\n",
    "\n",
    "$$ 0.5 \\times 0.25^3 + 0.5 \\times 0.75^3 + 0.5 \\times 1.25^3 + 0.5 \\times 1.75^3\n",
    "= 3.875 $$\n",
    "\n",
    "which is actually not that bad.\n",
    "\n",
    "If we divided the integral range $[0, 2]$ more finely (into more than 4 pieces), we will get an even better answer!\n",
    "\n",
    "So, let's implement this function using a `for` loop. Your function `riemann_sum` will take 4 inputs: the function `f` you want to integrate, the lower and upper bounds `a` and `b` for the definite integral, and the number of pieces `n` that your Riemann sum will contain. The higher the value of `n`, the higher the accuracy of your approximation. Let `n` be an optional argument with a default value of $100$.\n",
    "\n",
    "Hint: Start by computing the width of each rectangle.  \n",
    "Hint: Make sure you evaluate the function `f` at the mid-point of the rectangle to obtain the height of each rectangle."
   ]
  },
  {
   "cell_type": "code",
   "execution_count": 24,
   "metadata": {
    "ExecuteTime": {
     "end_time": "2018-06-28T23:36:00.365324Z",
     "start_time": "2018-06-28T23:36:00.345954Z"
    }
   },
   "outputs": [],
   "source": [
    "def riemann_sum(f, a, b, n=100):\n",
    "    ##################################\n",
    "    # Write your own code here!      #\n",
    "    ##################################\n",
    "    "
   ]
  },
  {
   "cell_type": "markdown",
   "metadata": {},
   "source": [
    "Use the following two cells to test your `riemann_sum` function."
   ]
  },
  {
   "cell_type": "code",
   "execution_count": 25,
   "metadata": {
    "ExecuteTime": {
     "end_time": "2018-06-28T23:36:01.564963Z",
     "start_time": "2018-06-28T23:36:01.540981Z"
    }
   },
   "outputs": [
    {
     "name": "stdout",
     "output_type": "stream",
     "text": [
      "This should give an answer improved from 3.875 with n=4\n",
      "3.999800000000001\n",
      "3.9999499999999992\n",
      "3.999997999999998\n",
      "Do you recall your basic trig.?\n",
      "1.0000001028083878\n"
     ]
    }
   ],
   "source": [
    "def cube(x):\n",
    "    return x ** 3\n",
    "\n",
    "print(\"This should give an answer improved from 3.875 with n=4\")\n",
    "print( riemann_sum(cube, 0, 2) )\n",
    "print( riemann_sum(cube, 0, 2, 200) )\n",
    "print( riemann_sum(cube, 0, 2, 1000) )\n",
    "\n",
    "from math import cos, pi\n",
    "print(\"Do you recall your basic trig.?\")\n",
    "print( riemann_sum(cos, 0, pi/2, 1000))"
   ]
  },
  {
   "cell_type": "code",
   "execution_count": 26,
   "metadata": {
    "ExecuteTime": {
     "end_time": "2018-06-28T23:37:11.994181Z",
     "start_time": "2018-06-28T23:37:11.933949Z"
    }
   },
   "outputs": [
    {
     "name": "stdout",
     "output_type": "stream",
     "text": [
      "For the standard normal distributions:\n",
      "+/- 1 standard deviation includes 68%\n",
      "0.6826895727940137\n",
      "+/- 2 standard deviation includes 95%\n",
      "0.954499880079485\n",
      "+/- 3 standard deviation includes over 99%\n",
      "0.9973002438231249\n"
     ]
    }
   ],
   "source": [
    "from math import exp, sqrt\n",
    "\n",
    "def gaussian(x, mu, sigma):\n",
    "    power = (x - mu) ** 2 / sigma ** 2\n",
    "    return exp(-power / 2) / (sqrt(2*pi) * sigma)\n",
    "\n",
    "norm_pdf = lambda x: gaussian(x, 0, 1)\n",
    "\n",
    "print(\"For the standard normal distributions:\")\n",
    "print(\"+/- 1 standard deviation includes 68%\")\n",
    "print( riemann_sum(norm_pdf, -1, 1, 1000))\n",
    "print(\"+/- 2 standard deviation includes 95%\")\n",
    "print( riemann_sum(norm_pdf, -2, 2, 1000))\n",
    "print(\"+/- 3 standard deviation includes over 99%\")\n",
    "print( riemann_sum(norm_pdf, -3, 3, 1000))"
   ]
  },
  {
   "cell_type": "markdown",
   "metadata": {},
   "source": [
    "### Break out of Loops\n",
    "\n",
    "In the cases of `while` and `for` loops above, it is **clear when to stop iterating** the codes inside the loop; `while` loop stops whenever the boolean condition is no longe `True`, and `for` loop stops whenever we went through all the values generated by the `range` function.\n",
    "\n",
    "However, this is *not* always the case. Maybe, the condition determining whether to stop the loop or not only becomes known or calculated somewhere mid-way through your loop!\n",
    "\n",
    "For instance, you might have a while loop running continuously that takes in experimental data and print them out or record them into some file. While you want to keep the loop going anytime the experiment is going on, you might also want to implement some emergency safeties within your code. e.g., If something bad happens, stop everything no matter what, turn off the device, print out a warning statement, etc.\n",
    "\n",
    "This is called *breaking out* of loops, and is done with `break` keyword."
   ]
  },
  {
   "cell_type": "code",
   "execution_count": 28,
   "metadata": {
    "ExecuteTime": {
     "end_time": "2018-06-28T23:41:10.183745Z",
     "start_time": "2018-06-28T23:41:10.157283Z"
    }
   },
   "outputs": [
    {
     "name": "stdout",
     "output_type": "stream",
     "text": [
      "Value becomes too big! Breaking the for loop!\n",
      "20\n",
      "190\n"
     ]
    }
   ],
   "source": [
    "val = 0\n",
    "for i in range(50):\n",
    "    if (val + i) > 200:\n",
    "        print(\"Value becomes too big! Breaking the for loop!\")\n",
    "        # This break stops the for loop, even if we haven't reached the end\n",
    "        break\n",
    "    else:\n",
    "        val += i\n",
    "print(i)\n",
    "\n",
    "print(val)"
   ]
  },
  {
   "cell_type": "markdown",
   "metadata": {},
   "source": [
    "## (B) Lists in Python\n",
    "\n",
    "So far, we have mostly dealt with one variable at a time. However, we often deal with a group of similar data at a given time. For instance, we might want to have a list of all experimental measurements you made, instead of having multiple variables like `var_1`, `var_2`, `var_3`, and so on."
   ]
  },
  {
   "cell_type": "markdown",
   "metadata": {},
   "source": [
    "So, the basic way to store variables in a group is through a `list`. A list in Python is a series of values all within square brackets: `[\"like\", \"this\", \"for\", \"example\"]`.\n",
    "\n",
    "Each element of the list can be accessed with **an index starting from 0**."
   ]
  },
  {
   "cell_type": "code",
   "execution_count": 29,
   "metadata": {
    "ExecuteTime": {
     "end_time": "2018-06-28T23:43:18.925030Z",
     "start_time": "2018-06-28T23:43:18.893166Z"
    }
   },
   "outputs": [
    {
     "name": "stdout",
     "output_type": "stream",
     "text": [
      "[1, 4, 9, 16, 25, 36, 49]\n",
      "17\n",
      "74\n"
     ]
    }
   ],
   "source": [
    "squares = [1, 4, 9, 16, 25, 36, 49]\n",
    "\n",
    "# You can print the whole list with one print statement too\n",
    "# No need to print one element at a time\n",
    "print(squares)\n",
    "\n",
    "# Note that the element indices start from 0\n",
    "print( squares[0] + squares[3] )\n",
    "# Negative indices? What does this do?\n",
    "print( squares[-1] + squares[-3] )"
   ]
  },
  {
   "cell_type": "markdown",
   "metadata": {},
   "source": [
    "You can use `:` to select a range of indices. This is called \"**slicing**\" in Python."
   ]
  },
  {
   "cell_type": "code",
   "execution_count": 30,
   "metadata": {
    "ExecuteTime": {
     "end_time": "2018-06-28T23:45:39.559806Z",
     "start_time": "2018-06-28T23:45:39.539383Z"
    }
   },
   "outputs": [
    {
     "name": "stdout",
     "output_type": "stream",
     "text": [
      "[9, 16, 25]\n",
      "[25, 36, 49]\n",
      "[1, 4]\n"
     ]
    }
   ],
   "source": [
    "print( squares[2:5] )\n",
    "print( squares[4:] )\n",
    "print( squares[:2] )"
   ]
  },
  {
   "cell_type": "markdown",
   "metadata": {},
   "source": [
    "You can add an element to the back of the list using `list.append(x)`."
   ]
  },
  {
   "cell_type": "code",
   "execution_count": 31,
   "metadata": {
    "ExecuteTime": {
     "end_time": "2018-06-28T23:47:43.057624Z",
     "start_time": "2018-06-28T23:47:43.035702Z"
    }
   },
   "outputs": [
    {
     "name": "stdout",
     "output_type": "stream",
     "text": [
      "[1, 4, 9, 16, 25, 36, 49, 64, 81, 100, 121, 144, 169, 196, 225, 256, 289, 324, 361, 400]\n"
     ]
    }
   ],
   "source": [
    "# Start with an empty list\n",
    "squares = []\n",
    "for i in range(1, 21):\n",
    "    squares.append(i * i)\n",
    "print(squares)"
   ]
  },
  {
   "cell_type": "markdown",
   "metadata": {},
   "source": [
    "You can also remove an element with `list.pop(i)`. This removes the `i`-index element of the list"
   ]
  },
  {
   "cell_type": "code",
   "execution_count": 32,
   "metadata": {
    "ExecuteTime": {
     "end_time": "2018-06-28T23:48:31.022024Z",
     "start_time": "2018-06-28T23:48:30.993825Z"
    }
   },
   "outputs": [
    {
     "name": "stdout",
     "output_type": "stream",
     "text": [
      "1\n",
      "[0, 2, 3]\n",
      "3\n",
      "[0, 2]\n",
      "0\n",
      "[2]\n",
      "2\n",
      "[]\n"
     ]
    }
   ],
   "source": [
    "test_list = [0, 1, 2, 3]\n",
    "\n",
    "print(test_list.pop(1))\n",
    "print(test_list)\n",
    "print(test_list.pop(2))\n",
    "print(test_list)\n",
    "print(test_list.pop(0))\n",
    "print(test_list)\n",
    "print(test_list.pop(0))\n",
    "print(test_list)"
   ]
  },
  {
   "cell_type": "markdown",
   "metadata": {},
   "source": [
    "Iterating through each element in a list is super easy:"
   ]
  },
  {
   "cell_type": "code",
   "execution_count": 33,
   "metadata": {
    "ExecuteTime": {
     "end_time": "2018-06-28T23:51:03.031524Z",
     "start_time": "2018-06-28T23:51:03.012586Z"
    }
   },
   "outputs": [
    {
     "name": "stdout",
     "output_type": "stream",
     "text": [
      "4\n",
      "16\n",
      "36\n",
      "64\n",
      "100\n",
      "144\n",
      "196\n",
      "256\n",
      "324\n",
      "400\n"
     ]
    }
   ],
   "source": [
    "for n in squares:\n",
    "    if (n % 2) == 0:\n",
    "        print(n)"
   ]
  },
  {
   "cell_type": "markdown",
   "metadata": {},
   "source": [
    "#### Exercise\n",
    "\n",
    "Write a `list_sum` function that takes in one list `numbers` as an input and returns the sum of all elements."
   ]
  },
  {
   "cell_type": "code",
   "execution_count": 34,
   "metadata": {
    "ExecuteTime": {
     "end_time": "2018-06-28T23:53:17.817919Z",
     "start_time": "2018-06-28T23:53:17.802178Z"
    }
   },
   "outputs": [],
   "source": [
    "def list_sum(numbers):\n",
    "    ##################################\n",
    "    # Write your own code here!      #\n",
    "    ##################################\n",
    "    "
   ]
  },
  {
   "cell_type": "code",
   "execution_count": 35,
   "metadata": {
    "ExecuteTime": {
     "end_time": "2018-06-28T23:53:23.259246Z",
     "start_time": "2018-06-28T23:53:23.232222Z"
    }
   },
   "outputs": [
    {
     "name": "stdout",
     "output_type": "stream",
     "text": [
      "Your list_sum implementation:\n",
      "9.7\n",
      "Python built-in sum function:\n",
      "9.7\n"
     ]
    }
   ],
   "source": [
    "data = [0.2, -3.5, 4.2, 1.3, 2.8, 1.5, 3.2]\n",
    "print(\"Your list_sum implementation:\")\n",
    "print(list_sum(data))\n",
    "print(\"Python built-in sum function:\")\n",
    "print(sum(data))"
   ]
  },
  {
   "cell_type": "markdown",
   "metadata": {},
   "source": [
    "`len(some_list)` gives the length of your list. Hence, we can compute the mean of a list of numbers like the following:"
   ]
  },
  {
   "cell_type": "code",
   "execution_count": 36,
   "metadata": {
    "ExecuteTime": {
     "end_time": "2018-06-28T23:54:02.026479Z",
     "start_time": "2018-06-28T23:54:01.991571Z"
    }
   },
   "outputs": [
    {
     "name": "stdout",
     "output_type": "stream",
     "text": [
      "1.3857142857142857\n"
     ]
    }
   ],
   "source": [
    "def list_mean(numbers):\n",
    "    return sum(numbers) / len(numbers)\n",
    "\n",
    "print(list_mean(data))"
   ]
  },
  {
   "cell_type": "markdown",
   "metadata": {},
   "source": [
    "#### Exercise\n",
    "\n",
    "Write a list-wise $\\sin(x)$ function. That is, write a function `list_sin` that takes a list of numbers as an input, and returns another list whose element is the element-wise $\\sin(x)$ value of the input list."
   ]
  },
  {
   "cell_type": "code",
   "execution_count": 37,
   "metadata": {
    "ExecuteTime": {
     "end_time": "2018-06-28T23:54:48.277498Z",
     "start_time": "2018-06-28T23:54:48.259486Z"
    }
   },
   "outputs": [],
   "source": [
    "from math import sin\n",
    "\n",
    "def list_sin(numbers):\n",
    "    ##################################\n",
    "    # Write your own code here!      #\n",
    "    ##################################\n",
    "    "
   ]
  },
  {
   "cell_type": "markdown",
   "metadata": {},
   "source": [
    "Test your code using the cell below. For now, don't worry about the details of how the plotting works."
   ]
  },
  {
   "cell_type": "code",
   "execution_count": 39,
   "metadata": {
    "ExecuteTime": {
     "end_time": "2018-06-28T23:54:56.887817Z",
     "start_time": "2018-06-28T23:54:56.529553Z"
    }
   },
   "outputs": [
    {
     "data": {
      "image/png": "[encoded data removed]",
      "text/plain": [
       "<Figure size 432x288 with 1 Axes>"
      ]
     },
     "metadata": {},
     "output_type": "display_data"
    }
   ],
   "source": [
    "x_list = [0.0, 0.3306939635357677,\n",
    " 0.6613879270715354,\n",
    " 0.992081890607303,\n",
    " 1.3227758541430708,\n",
    " 1.6534698176788385,\n",
    " 1.984163781214606,\n",
    " 2.3148577447503738,\n",
    " 2.6455517082861415,\n",
    " 2.9762456718219092,\n",
    " 3.306939635357677,\n",
    " 3.6376335988934447,\n",
    " 3.968327562429212,\n",
    " 4.29902152596498,\n",
    " 4.6297154895007475,\n",
    " 4.960409453036515,\n",
    " 5.291103416572283,\n",
    " 5.621797380108051,\n",
    " 5.9524913436438185,\n",
    " 6.283185307179586]\n",
    "\n",
    "sin_x_list = list_sin(x_list)\n",
    "\n",
    "import matplotlib.pyplot as plt\n",
    "\n",
    "plt.plot(x_list, sin_x_list, marker='o')\n",
    "plt.show()"
   ]
  },
  {
   "cell_type": "markdown",
   "metadata": {},
   "source": [
    "You can also have a list of lists: a nested list."
   ]
  },
  {
   "cell_type": "code",
   "execution_count": 40,
   "metadata": {
    "ExecuteTime": {
     "end_time": "2018-06-28T23:56:57.072918Z",
     "start_time": "2018-06-28T23:56:57.046140Z"
    }
   },
   "outputs": [
    {
     "name": "stdout",
     "output_type": "stream",
     "text": [
      "[[1, 2, 3, 4], [4, 5, 6, 7], [7, 8, 9, 10]]\n",
      "3\n",
      "[4, 5, 6, 7]\n",
      "4\n",
      "7\n"
     ]
    }
   ],
   "source": [
    "two_d_list = [ [1, 2, 3, 4], [4, 5, 6, 7], [7, 8, 9, 10] ]\n",
    "print(two_d_list)\n",
    "print( len(two_d_list) )\n",
    "print(two_d_list[1])\n",
    "print( len(two_d_list[1]) )\n",
    "print(two_d_list[1][3])"
   ]
  },
  {
   "cell_type": "markdown",
   "metadata": {},
   "source": [
    "#### Exercise\n",
    "\n",
    "Suppose you have a two-dimensional list representing different courses and a student's grades from the course. For example:\n",
    "\n",
    "```Python\n",
    "courses = [\n",
    "    [3, 3.7],\n",
    "    [4, 4.0],\n",
    "    [1, 2.0],\n",
    "    [3, 4.3],\n",
    "    [4, 3.3]\n",
    "]\n",
    "```\n",
    "\n",
    "This represents 5 different courses. The first course is worth 3 units/credits, and the student got a A-; the second course is worth 4 units, and the student got a A; so on.\n",
    "\n",
    "Write a function `student_gpa` that takes a list like the above and return the weighted GPA of the student."
   ]
  },
  {
   "cell_type": "code",
   "execution_count": null,
   "metadata": {
    "ExecuteTime": {
     "end_time": "2018-06-28T11:02:05.330782Z",
     "start_time": "2018-06-28T11:02:05.317372Z"
    }
   },
   "outputs": [],
   "source": [
    "def student_gpa(courses):\n",
    "    ##################################\n",
    "    # Write your own code here!      #\n",
    "    ##################################\n",
    "    "
   ]
  },
  {
   "cell_type": "code",
   "execution_count": null,
   "metadata": {
    "ExecuteTime": {
     "end_time": "2018-06-28T11:02:06.747542Z",
     "start_time": "2018-06-28T11:02:06.739293Z"
    }
   },
   "outputs": [],
   "source": [
    "courses = [\n",
    "    [3, 3.7],\n",
    "    [4, 3.7],\n",
    "    [1, 2.0],\n",
    "    [3, 4.3],\n",
    "    [4, 3.3]\n",
    "]\n",
    "\n",
    "print(\"What is this student's GPA?\")\n",
    "print( student_gpa(courses) )"
   ]
  },
  {
   "cell_type": "markdown",
   "metadata": {},
   "source": [
    "#### Exercise\n",
    "\n",
    "Below, I will provide you with a function that returns a (pseudo-) random real number from $-1$ to $1$.\n",
    "\n",
    "Your job is to create some random points on a real plane that are within a unit circle: a circle of radius $1$ centered at $(0, 0)$. \n",
    "\n",
    "More specifically, write a function `points_in_circle` that takes the input `n` which is the number of random points you want to generate. Your output should be a list of lists: `output[0]` should be the list of all $x$-coordinates, and `output[1]` should be the list of all $y$-coordinates. An example output might look like:\n",
    "\n",
    "```Python\n",
    "print( points_in_circle(5) )\n",
    "\n",
    "[\n",
    "    [-0.3635, 0.765965, -0.15739035465420836, 0.013891514388979731, 0.42826420251211417],\n",
    "    [-0.5404830130430214, 0.07106701886121902, 0.7920378645157875, 0.755229432005305, 0.6563372029719723]\n",
    "]\n",
    "```"
   ]
  },
  {
   "cell_type": "code",
   "execution_count": null,
   "metadata": {
    "ExecuteTime": {
     "end_time": "2018-06-28T10:44:51.054234Z",
     "start_time": "2018-06-28T10:44:51.044884Z"
    }
   },
   "outputs": [],
   "source": [
    "from random import uniform\n",
    "\n",
    "# Use this function to randomly generate a value between -1 and 1\n",
    "def rand():\n",
    "    return uniform(-1, 1)\n",
    "\n",
    "def points_in_circle(n):\n",
    "    ##################################\n",
    "    # Write your own code here!      #\n",
    "    ##################################\n",
    "    "
   ]
  },
  {
   "cell_type": "code",
   "execution_count": null,
   "metadata": {
    "ExecuteTime": {
     "end_time": "2018-06-28T10:46:27.259415Z",
     "start_time": "2018-06-28T10:46:27.137566Z"
    }
   },
   "outputs": [],
   "source": [
    "some_points = points_in_circle(500)\n",
    "\n",
    "plt.figure(figsize=(6, 6))\n",
    "plt.scatter(some_points[0], some_points[1], marker='x')\n",
    "plt.xlim([-1.2, 1.2])\n",
    "plt.ylim([-1.2, 1.2])\n",
    "plt.grid(True)\n",
    "plt.show()"
   ]
  },
  {
   "cell_type": "markdown",
   "metadata": {},
   "source": [
    "(Mostly for fun)\n",
    "\n",
    "#### Exercise\n",
    "\n",
    "In the previous exercise, we uniformly sampled points from a square of side length $2$ and only kept the ones within the unit circle. The probability that a randomly chosen point in the square region will fall into a unit circle is proportional to the area of the circle. That is:\n",
    "\n",
    "$$ \\text{Prob.} = \\frac{\\text{Area of unit circle}}{\\text{Area of square}}\n",
    "= \\frac{\\pi}{4} $$\n",
    "\n",
    "Let's use this to approximate the value of $\\pi$ numerically. That is, write a function `mc_pi` that takes one large natural number `n` as the input.\n",
    "\n",
    "In particular, you should generate `n` random points from the square as we did above, and this time, simply count the number of points that fall within the unit circle. The ratio should be represent $\\text{Prob.}$ defined above. Return $4 \\times \\text{the ratio}$."
   ]
  },
  {
   "cell_type": "code",
   "execution_count": null,
   "metadata": {
    "ExecuteTime": {
     "end_time": "2018-06-28T10:54:27.307352Z",
     "start_time": "2018-06-28T10:54:27.299203Z"
    }
   },
   "outputs": [],
   "source": [
    "def mc_pi(n):\n",
    "    ##################################\n",
    "    # Write your own code here!      #\n",
    "    ##################################"
   ]
  },
  {
   "cell_type": "code",
   "execution_count": null,
   "metadata": {
    "ExecuteTime": {
     "end_time": "2018-06-28T10:55:56.357954Z",
     "start_time": "2018-06-28T10:55:47.592293Z"
    }
   },
   "outputs": [],
   "source": [
    "print(mc_pi(10000000))"
   ]
  },
  {
   "cell_type": "code",
   "execution_count": null,
   "metadata": {},
   "outputs": [],
   "source": []
  }
 ],
 "metadata": {
  "kernelspec": {
   "display_name": "Python 3 (ipykernel)",
   "language": "python",
   "name": "python3"
  },
  "language_info": {
   "codemirror_mode": {
    "name": "ipython",
    "version": 3
   },
   "file_extension": ".py",
   "mimetype": "text/x-python",
   "name": "python",
   "nbconvert_exporter": "python",
   "pygments_lexer": "ipython3",
   "version": "3.8.13"
  },
  "varInspector": {
   "cols": {
    "lenName": 16,
    "lenType": 16,
    "lenVar": 40
   },
   "kernels_config": {
    "python": {
     "delete_cmd_postfix": "",
     "delete_cmd_prefix": "del ",
     "library": "var_list.py",
     "varRefreshCmd": "print(var_dic_list())"
    },
    "r": {
     "delete_cmd_postfix": ") ",
     "delete_cmd_prefix": "rm(",
     "library": "var_list.r",
     "varRefreshCmd": "cat(var_dic_list()) "
    }
   },
   "types_to_exclude": [
    "module",
    "function",
    "builtin_function_or_method",
    "instance",
    "_Feature"
   ],
   "window_display": false
  }
 },
 "nbformat": 4,
 "nbformat_minor": 4
}
